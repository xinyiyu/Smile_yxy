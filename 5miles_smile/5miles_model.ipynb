{
 "cells": [
  {
   "cell_type": "code",
   "execution_count": 1,
   "metadata": {
    "collapsed": true,
    "jupyter": {
     "outputs_hidden": true
    },
    "tags": []
   },
   "outputs": [
    {
     "name": "stderr",
     "output_type": "stream",
     "text": [
      "── \u001b[1mAttaching packages\u001b[22m ──────────────────────────────────────────────────────── tidyverse 1.3.1 ──\n",
      "\n",
      "\u001b[32m✔\u001b[39m \u001b[34mggplot2\u001b[39m 3.3.5     \u001b[32m✔\u001b[39m \u001b[34mdplyr  \u001b[39m 1.0.8\n",
      "\u001b[32m✔\u001b[39m \u001b[34mtidyr  \u001b[39m 1.2.0     \u001b[32m✔\u001b[39m \u001b[34mstringr\u001b[39m 1.4.0\n",
      "\u001b[32m✔\u001b[39m \u001b[34mreadr  \u001b[39m 2.1.2     \u001b[32m✔\u001b[39m \u001b[34mforcats\u001b[39m 0.5.1\n",
      "\u001b[32m✔\u001b[39m \u001b[34mpurrr  \u001b[39m 0.3.4     \n",
      "\n",
      "── \u001b[1mConflicts\u001b[22m ─────────────────────────────────────────────────────────── tidyverse_conflicts() ──\n",
      "\u001b[31m✖\u001b[39m \u001b[34mdplyr\u001b[39m::\u001b[32mfilter()\u001b[39m masks \u001b[34mstats\u001b[39m::filter()\n",
      "\u001b[31m✖\u001b[39m \u001b[34mdplyr\u001b[39m::\u001b[32mlag()\u001b[39m    masks \u001b[34mstats\u001b[39m::lag()\n",
      "\n",
      "Loading required package: Matrix\n",
      "\n",
      "\n",
      "Attaching package: ‘Matrix’\n",
      "\n",
      "\n",
      "The following objects are masked from ‘package:tidyr’:\n",
      "\n",
      "    expand, pack, unpack\n",
      "\n",
      "\n",
      "\n",
      "Attaching package: ‘data.table’\n",
      "\n",
      "\n",
      "The following objects are masked from ‘package:dplyr’:\n",
      "\n",
      "    between, first, last\n",
      "\n",
      "\n",
      "The following object is masked from ‘package:purrr’:\n",
      "\n",
      "    transpose\n",
      "\n",
      "\n"
     ]
    }
   ],
   "source": [
    "library(tibble)\n",
    "library(tidyverse)\n",
    "library(lme4)\n",
    "library(data.table)"
   ]
  },
  {
   "cell_type": "code",
   "execution_count": 2,
   "metadata": {
    "tags": []
   },
   "outputs": [],
   "source": [
    "all = fread('scores/variables.csv', sep='\\t', header=T)\n",
    "all <- all %>% mutate_if(is.character, list(~na_if(.,\"\"))) "
   ]
  },
  {
   "cell_type": "code",
   "execution_count": 3,
   "metadata": {},
   "outputs": [],
   "source": [
    "raw = as_tibble(all) %>%\n",
    "    mutate(seller_pictures=ifelse(is.na(seller_pictures), 0, 1),\n",
    "         category_=as.factor(c(rep('elec', 7207), rep('bag', 14426-7206), rep('makeup', 26340-14426))))"
   ]
  },
  {
   "cell_type": "code",
   "execution_count": 4,
   "metadata": {},
   "outputs": [
    {
     "data": {
      "text/plain": [
       "\n",
       "Call:\n",
       "glm(formula = offered ~ seller_pictures + female + seller_level + \n",
       "    seller_verification_email + seller_verification_phone + seller_verification_fb + \n",
       "    product_price + product_images + log(product_title_length) + \n",
       "    category_, family = binomial, data = raw)\n",
       "\n",
       "Deviance Residuals: \n",
       "   Min      1Q  Median      3Q     Max  \n",
       "-1.432  -1.130  -1.023   1.216   1.434  \n",
       "\n",
       "Coefficients:\n",
       "                            Estimate Std. Error z value Pr(>|z|)    \n",
       "(Intercept)               -3.564e-01  8.872e-02  -4.017 5.90e-05 ***\n",
       "seller_pictures            1.095e-01  3.672e-02   2.982  0.00286 ** \n",
       "female                    -8.551e-02  2.666e-02  -3.208  0.00134 ** \n",
       "seller_level              -1.498e-02  5.173e-03  -2.896  0.00379 ** \n",
       "seller_verification_email -1.545e-01  3.175e-02  -4.865 1.15e-06 ***\n",
       "seller_verification_phone  1.431e-01  6.329e-02   2.260  0.02381 *  \n",
       "seller_verification_fb     8.787e-03  2.664e-02   0.330  0.74151    \n",
       "product_price             -1.286e-09  1.905e-08  -0.067  0.94619    \n",
       "product_images             4.334e-02  5.700e-03   7.603 2.88e-14 ***\n",
       "log(product_title_length) -2.700e-02  1.840e-02  -1.467  0.14232    \n",
       "category_elec              2.315e-01  3.545e-02   6.529 6.60e-11 ***\n",
       "category_makeup            2.314e-01  3.063e-02   7.556 4.17e-14 ***\n",
       "---\n",
       "Signif. codes:  0 ‘***’ 0.001 ‘**’ 0.01 ‘*’ 0.05 ‘.’ 0.1 ‘ ’ 1\n",
       "\n",
       "(Dispersion parameter for binomial family taken to be 1)\n",
       "\n",
       "    Null deviance: 36440  on 26340  degrees of freedom\n",
       "Residual deviance: 36271  on 26329  degrees of freedom\n",
       "AIC: 36295\n",
       "\n",
       "Number of Fisher Scoring iterations: 4\n"
      ]
     },
     "metadata": {},
     "output_type": "display_data"
    },
    {
     "data": {
      "text/plain": [
       "'log Lik.' -18135.52 (df=12)"
      ]
     },
     "metadata": {},
     "output_type": "display_data"
    }
   ],
   "source": [
    "## spec 1\n",
    "model = glm(offered ~ seller_pictures + female + seller_level + seller_verification_email + seller_verification_phone + seller_verification_fb + product_price + product_images + log(product_title_length) + category_, family=binomial, data=raw)\n",
    "summary(model)\n",
    "logLik(model)"
   ]
  },
  {
   "cell_type": "code",
   "execution_count": 5,
   "metadata": {},
   "outputs": [
    {
     "name": "stdout",
     "output_type": "stream",
     "text": [
      "[1] 22460    28\n"
     ]
    },
    {
     "data": {
      "text/plain": [
       "\n",
       "Call:\n",
       "glm(formula = offered ~ quality + portrait + female + seller_level + \n",
       "    seller_verification_email + seller_verification_phone + seller_verification_fb + \n",
       "    product_price + product_images + log(product_title_length) + \n",
       "    category_, family = binomial, data = dat)\n",
       "\n",
       "Deviance Residuals: \n",
       "   Min      1Q  Median      3Q     Max  \n",
       "-1.423  -1.133  -1.026   1.211   1.413  \n",
       "\n",
       "Coefficients:\n",
       "                            Estimate Std. Error z value Pr(>|z|)    \n",
       "(Intercept)               -4.492e-01  1.376e-01  -3.265 0.001095 ** \n",
       "quality                    6.535e-02  1.464e-01   0.446 0.655258    \n",
       "portrait                   2.951e-02  2.843e-02   1.038 0.299198    \n",
       "female                    -1.024e-01  2.932e-02  -3.492 0.000479 ***\n",
       "seller_level              -1.743e-02  5.546e-03  -3.143 0.001670 ** \n",
       "seller_verification_email -1.720e-01  3.515e-02  -4.892 9.98e-07 ***\n",
       "seller_verification_phone  2.090e-01  6.990e-02   2.991 0.002785 ** \n",
       "seller_verification_fb     1.511e-02  2.797e-02   0.540 0.589156    \n",
       "product_price             -2.207e-08  1.343e-07  -0.164 0.869467    \n",
       "product_images             3.635e-02  6.120e-03   5.939 2.86e-09 ***\n",
       "log(product_title_length)  1.722e-02  2.049e-02   0.840 0.400666    \n",
       "category_elec              2.124e-01  3.894e-02   5.455 4.91e-08 ***\n",
       "category_makeup            2.204e-01  3.297e-02   6.685 2.31e-11 ***\n",
       "---\n",
       "Signif. codes:  0 ‘***’ 0.001 ‘**’ 0.01 ‘*’ 0.05 ‘.’ 0.1 ‘ ’ 1\n",
       "\n",
       "(Dispersion parameter for binomial family taken to be 1)\n",
       "\n",
       "    Null deviance: 31050  on 22433  degrees of freedom\n",
       "Residual deviance: 30911  on 22421  degrees of freedom\n",
       "  (26 observations deleted due to missingness)\n",
       "AIC: 30937\n",
       "\n",
       "Number of Fisher Scoring iterations: 3\n"
      ]
     },
     "metadata": {},
     "output_type": "display_data"
    },
    {
     "data": {
      "text/plain": [
       "'log Lik.' -15455.3 (df=13)"
      ]
     },
     "metadata": {},
     "output_type": "display_data"
    }
   ],
   "source": [
    "## spec 2\n",
    "dat <- raw %>% \n",
    "    filter(seller_pictures==1) %>%\n",
    "    mutate(portrait=ifelse(num_faces>0, 1, 0))\n",
    "print(dim(dat))\n",
    "model = glm(offered ~ quality + portrait + female + seller_level + seller_verification_email + seller_verification_phone + seller_verification_fb + product_price + product_images + log(product_title_length) + category_, family=binomial, data=dat)\n",
    "summary(model)\n",
    "logLik(model)"
   ]
  },
  {
   "cell_type": "code",
   "execution_count": 6,
   "metadata": {},
   "outputs": [
    {
     "data": {
      "text/plain": [
       "\n",
       "Call:\n",
       "glm(formula = offered ~ quality + beauty + face_proximity + smile + \n",
       "    female + seller_level + seller_verification_email + seller_verification_phone + \n",
       "    seller_verification_fb + product_price + product_images + \n",
       "    log(product_title_length) + category_, family = binomial, \n",
       "    data = dat)\n",
       "\n",
       "Deviance Residuals: \n",
       "    Min       1Q   Median       3Q      Max  \n",
       "-1.6161  -1.1233  -0.9808   1.2051   1.5034  \n",
       "\n",
       "Coefficients:\n",
       "                            Estimate Std. Error z value Pr(>|z|)    \n",
       "(Intercept)                1.652e-02  2.818e-01   0.059 0.953256    \n",
       "quality                   -1.827e-01  2.798e-01  -0.653 0.513921    \n",
       "beauty                    -4.985e-02  3.932e-02  -1.268 0.204819    \n",
       "face_proximity             2.228e-01  1.389e-01   1.604 0.108674    \n",
       "smile                     -2.066e-01  4.492e-02  -4.599 4.25e-06 ***\n",
       "female                    -1.469e-01  4.749e-02  -3.093 0.001983 ** \n",
       "seller_level              -2.064e-02  9.396e-03  -2.196 0.028071 *  \n",
       "seller_verification_email -1.470e-01  5.952e-02  -2.470 0.013503 *  \n",
       "seller_verification_phone -6.983e-02  1.206e-01  -0.579 0.562493    \n",
       "seller_verification_fb     1.551e-01  4.587e-02   3.381 0.000721 ***\n",
       "product_price             -2.515e-08  1.349e-07  -0.186 0.852090    \n",
       "product_images             5.170e-02  1.015e-02   5.094 3.50e-07 ***\n",
       "log(product_title_length)  5.612e-02  3.518e-02   1.595 0.110642    \n",
       "category_elec              1.524e-01  6.785e-02   2.246 0.024678 *  \n",
       "category_makeup            2.172e-01  5.236e-02   4.148 3.36e-05 ***\n",
       "---\n",
       "Signif. codes:  0 ‘***’ 0.001 ‘**’ 0.01 ‘*’ 0.05 ‘.’ 0.1 ‘ ’ 1\n",
       "\n",
       "(Dispersion parameter for binomial family taken to be 1)\n",
       "\n",
       "    Null deviance: 11530  on 8332  degrees of freedom\n",
       "Residual deviance: 11420  on 8318  degrees of freedom\n",
       "AIC: 11450\n",
       "\n",
       "Number of Fisher Scoring iterations: 4\n"
      ]
     },
     "metadata": {},
     "output_type": "display_data"
    },
    {
     "data": {
      "text/plain": [
       "'log Lik.' -5710.203 (df=15)"
      ]
     },
     "metadata": {},
     "output_type": "display_data"
    }
   ],
   "source": [
    "## spec 3\n",
    "dat <- raw %>% \n",
    "    filter(num_faces==1)\n",
    "model = glm(offered ~ quality + beauty + face_proximity + smile + female + seller_level + seller_verification_email + seller_verification_phone + seller_verification_fb + product_price + product_images + log(product_title_length) + category_, family=binomial, data=dat)\n",
    "summary(model)\n",
    "logLik(model)"
   ]
  },
  {
   "cell_type": "code",
   "execution_count": 7,
   "metadata": {},
   "outputs": [
    {
     "data": {
      "text/plain": [
       "\n",
       "Call:\n",
       "glm(formula = offered ~ quality + beauty + face_proximity + smile + \n",
       "    category_:smile + female + seller_level + seller_verification_email + \n",
       "    seller_verification_phone + seller_verification_fb + product_price + \n",
       "    product_images + log(product_title_length) + category_, family = binomial, \n",
       "    data = dat)\n",
       "\n",
       "Deviance Residuals: \n",
       "    Min       1Q   Median       3Q      Max  \n",
       "-1.6014  -1.1236  -0.9777   1.2062   1.5086  \n",
       "\n",
       "Coefficients:\n",
       "                            Estimate Std. Error z value Pr(>|z|)    \n",
       "(Intercept)                2.125e-02  2.836e-01   0.075 0.940273    \n",
       "quality                   -1.689e-01  2.801e-01  -0.603 0.546419    \n",
       "beauty                    -5.023e-02  3.933e-02  -1.277 0.201497    \n",
       "face_proximity             2.262e-01  1.389e-01   1.629 0.103396    \n",
       "smile                     -2.346e-01  8.228e-02  -2.852 0.004350 ** \n",
       "female                    -1.442e-01  4.752e-02  -3.034 0.002415 ** \n",
       "seller_level              -2.105e-02  9.400e-03  -2.240 0.025117 *  \n",
       "seller_verification_email -1.458e-01  5.953e-02  -2.450 0.014294 *  \n",
       "seller_verification_phone -6.983e-02  1.206e-01  -0.579 0.562721    \n",
       "seller_verification_fb     1.516e-01  4.593e-02   3.301 0.000964 ***\n",
       "product_price             -2.546e-08  1.347e-07  -0.189 0.850107    \n",
       "product_images             5.155e-02  1.015e-02   5.080 3.78e-07 ***\n",
       "log(product_title_length)  5.691e-02  3.520e-02   1.617 0.105901    \n",
       "category_elec              1.854e-01  8.943e-02   2.073 0.038200 *  \n",
       "category_makeup            1.737e-01  7.403e-02   2.346 0.018959 *  \n",
       "smile:category_elec       -1.003e-01  1.321e-01  -0.759 0.447788    \n",
       "smile:category_makeup      9.066e-02  1.031e-01   0.879 0.379206    \n",
       "---\n",
       "Signif. codes:  0 ‘***’ 0.001 ‘**’ 0.01 ‘*’ 0.05 ‘.’ 0.1 ‘ ’ 1\n",
       "\n",
       "(Dispersion parameter for binomial family taken to be 1)\n",
       "\n",
       "    Null deviance: 11530  on 8332  degrees of freedom\n",
       "Residual deviance: 11418  on 8316  degrees of freedom\n",
       "AIC: 11452\n",
       "\n",
       "Number of Fisher Scoring iterations: 4\n"
      ]
     },
     "metadata": {},
     "output_type": "display_data"
    },
    {
     "data": {
      "text/plain": [
       "'log Lik.' -5708.872 (df=17)"
      ]
     },
     "metadata": {},
     "output_type": "display_data"
    }
   ],
   "source": [
    "## spec 4\n",
    "dat <- raw %>% \n",
    "    filter(num_faces==1)\n",
    "model = glm(offered ~ quality + beauty + face_proximity + smile + category_ : smile + female + seller_level + seller_verification_email + seller_verification_phone + seller_verification_fb + product_price + product_images + log(product_title_length) + category_, family=binomial, data=dat)\n",
    "summary(model)\n",
    "logLik(model)"
   ]
  },
  {
   "cell_type": "code",
   "execution_count": 8,
   "metadata": {},
   "outputs": [
    {
     "data": {
      "text/plain": [
       "\n",
       "Call:\n",
       "glm(formula = offered ~ quality + beauty + face_proximity + Intensity + \n",
       "    female + seller_level + seller_verification_email + seller_verification_phone + \n",
       "    seller_verification_fb + product_price + product_images + \n",
       "    log(product_title_length) + category_, family = binomial, \n",
       "    data = dat)\n",
       "\n",
       "Deviance Residuals: \n",
       "    Min       1Q   Median       3Q      Max  \n",
       "-1.6182  -1.1250  -0.9893   1.2057   1.5224  \n",
       "\n",
       "Coefficients:\n",
       "                            Estimate Std. Error z value Pr(>|z|)    \n",
       "(Intercept)                8.169e-02  2.844e-01   0.287 0.773926    \n",
       "quality                   -2.012e-01  2.797e-01  -0.719 0.471887    \n",
       "beauty                    -5.373e-02  3.931e-02  -1.367 0.171734    \n",
       "face_proximity             2.580e-01  1.392e-01   1.854 0.063738 .  \n",
       "Intensity                 -2.868e-01  8.635e-02  -3.322 0.000895 ***\n",
       "female                    -1.631e-01  4.735e-02  -3.444 0.000574 ***\n",
       "seller_level              -2.204e-02  9.392e-03  -2.346 0.018951 *  \n",
       "seller_verification_email -1.434e-01  5.948e-02  -2.410 0.015938 *  \n",
       "seller_verification_phone -6.358e-02  1.204e-01  -0.528 0.597618    \n",
       "seller_verification_fb     1.417e-01  4.572e-02   3.099 0.001940 ** \n",
       "product_price             -2.843e-08  1.346e-07  -0.211 0.832755    \n",
       "product_images             5.056e-02  1.014e-02   4.989 6.08e-07 ***\n",
       "log(product_title_length)  5.297e-02  3.516e-02   1.506 0.131972    \n",
       "category_elec              1.626e-01  6.774e-02   2.400 0.016381 *  \n",
       "category_makeup            2.192e-01  5.242e-02   4.182 2.90e-05 ***\n",
       "---\n",
       "Signif. codes:  0 ‘***’ 0.001 ‘**’ 0.01 ‘*’ 0.05 ‘.’ 0.1 ‘ ’ 1\n",
       "\n",
       "(Dispersion parameter for binomial family taken to be 1)\n",
       "\n",
       "    Null deviance: 11530  on 8332  degrees of freedom\n",
       "Residual deviance: 11431  on 8318  degrees of freedom\n",
       "AIC: 11461\n",
       "\n",
       "Number of Fisher Scoring iterations: 4\n"
      ]
     },
     "metadata": {},
     "output_type": "display_data"
    },
    {
     "data": {
      "text/plain": [
       "'log Lik.' -5715.262 (df=15)"
      ]
     },
     "metadata": {},
     "output_type": "display_data"
    }
   ],
   "source": [
    "## spec 5\n",
    "dat <- raw %>% \n",
    "    filter(num_faces==1)\n",
    "model = glm(offered ~ quality + beauty + face_proximity + Intensity + female + seller_level + seller_verification_email + seller_verification_phone + seller_verification_fb + product_price + product_images + log(product_title_length) + category_, family=binomial, data=dat)\n",
    "summary(model)\n",
    "logLik(model)"
   ]
  },
  {
   "cell_type": "code",
   "execution_count": 9,
   "metadata": {},
   "outputs": [
    {
     "data": {
      "text/plain": [
       "\n",
       "Call:\n",
       "glm(formula = offered ~ quality + beauty + face_proximity + Intensity + \n",
       "    I(Intensity^2) + female + seller_level + seller_verification_email + \n",
       "    seller_verification_phone + seller_verification_fb + product_price + \n",
       "    product_images + log(product_title_length) + category_, family = binomial, \n",
       "    data = dat)\n",
       "\n",
       "Deviance Residuals: \n",
       "    Min       1Q   Median       3Q      Max  \n",
       "-1.5966  -1.1272  -0.9865   1.2042   1.5430  \n",
       "\n",
       "Coefficients:\n",
       "                            Estimate Std. Error z value Pr(>|z|)    \n",
       "(Intercept)               -2.894e-03  2.915e-01  -0.010 0.992078    \n",
       "quality                   -2.086e-01  2.798e-01  -0.746 0.455922    \n",
       "beauty                    -5.188e-02  3.934e-02  -1.319 0.187255    \n",
       "face_proximity             2.688e-01  1.394e-01   1.928 0.053853 .  \n",
       "Intensity                  1.477e-01  3.391e-01   0.436 0.663128    \n",
       "I(Intensity^2)            -4.325e-01  3.266e-01  -1.324 0.185362    \n",
       "female                    -1.591e-01  4.744e-02  -3.353 0.000798 ***\n",
       "seller_level              -2.170e-02  9.397e-03  -2.309 0.020938 *  \n",
       "seller_verification_email -1.433e-01  5.948e-02  -2.409 0.015977 *  \n",
       "seller_verification_phone -6.274e-02  1.205e-01  -0.521 0.602477    \n",
       "seller_verification_fb     1.397e-01  4.575e-02   3.055 0.002254 ** \n",
       "product_price             -2.966e-08  1.346e-07  -0.220 0.825546    \n",
       "product_images             5.056e-02  1.013e-02   4.989 6.05e-07 ***\n",
       "log(product_title_length)  5.291e-02  3.516e-02   1.505 0.132372    \n",
       "category_elec              1.612e-01  6.775e-02   2.379 0.017353 *  \n",
       "category_makeup            2.220e-01  5.247e-02   4.231 2.33e-05 ***\n",
       "---\n",
       "Signif. codes:  0 ‘***’ 0.001 ‘**’ 0.01 ‘*’ 0.05 ‘.’ 0.1 ‘ ’ 1\n",
       "\n",
       "(Dispersion parameter for binomial family taken to be 1)\n",
       "\n",
       "    Null deviance: 11530  on 8332  degrees of freedom\n",
       "Residual deviance: 11429  on 8317  degrees of freedom\n",
       "AIC: 11461\n",
       "\n",
       "Number of Fisher Scoring iterations: 4\n"
      ]
     },
     "metadata": {},
     "output_type": "display_data"
    },
    {
     "data": {
      "text/plain": [
       "'log Lik.' -5714.383 (df=16)"
      ]
     },
     "metadata": {},
     "output_type": "display_data"
    }
   ],
   "source": [
    "## spec 6\n",
    "dat <- raw %>% \n",
    "    filter(num_faces==1)\n",
    "model = glm(offered ~ quality + beauty + face_proximity + Intensity + I(Intensity^2) + female + seller_level + seller_verification_email + seller_verification_phone + seller_verification_fb + product_price + product_images + log(product_title_length) + category_, family=binomial, data=dat)\n",
    "summary(model)\n",
    "logLik(model)"
   ]
  },
  {
   "cell_type": "code",
   "execution_count": 10,
   "metadata": {},
   "outputs": [
    {
     "data": {
      "text/plain": [
       "\n",
       "Call:\n",
       "glm(formula = offered ~ quality + beauty + face_proximity + asymmetry + \n",
       "    female + seller_level + seller_verification_email + seller_verification_phone + \n",
       "    seller_verification_fb + product_price + product_images + \n",
       "    log(product_title_length) + category_, family = binomial, \n",
       "    data = dat)\n",
       "\n",
       "Deviance Residuals: \n",
       "    Min       1Q   Median       3Q      Max  \n",
       "-1.5749  -1.1293  -0.9993   1.2094   1.4748  \n",
       "\n",
       "Coefficients:\n",
       "                            Estimate Std. Error z value Pr(>|z|)    \n",
       "(Intercept)               -6.706e-02  2.824e-01  -0.237 0.812287    \n",
       "quality                   -2.075e-01  2.794e-01  -0.743 0.457647    \n",
       "beauty                    -5.121e-02  3.928e-02  -1.304 0.192289    \n",
       "face_proximity             2.247e-01  1.387e-01   1.620 0.105165    \n",
       "asymmetry                  8.404e-03  4.527e-02   0.186 0.852748    \n",
       "female                    -1.619e-01  4.734e-02  -3.421 0.000624 ***\n",
       "seller_level              -2.141e-02  9.391e-03  -2.280 0.022606 *  \n",
       "seller_verification_email -1.468e-01  5.944e-02  -2.470 0.013516 *  \n",
       "seller_verification_phone -5.859e-02  1.204e-01  -0.487 0.626462    \n",
       "seller_verification_fb     1.401e-01  4.569e-02   3.066 0.002167 ** \n",
       "product_price             -2.571e-08  1.345e-07  -0.191 0.848463    \n",
       "product_images             5.038e-02  1.013e-02   4.975 6.53e-07 ***\n",
       "log(product_title_length)  5.617e-02  3.514e-02   1.599 0.109887    \n",
       "category_elec              1.822e-01  6.746e-02   2.701 0.006920 ** \n",
       "category_makeup            2.364e-01  5.214e-02   4.533 5.81e-06 ***\n",
       "---\n",
       "Signif. codes:  0 ‘***’ 0.001 ‘**’ 0.01 ‘*’ 0.05 ‘.’ 0.1 ‘ ’ 1\n",
       "\n",
       "(Dispersion parameter for binomial family taken to be 1)\n",
       "\n",
       "    Null deviance: 11530  on 8332  degrees of freedom\n",
       "Residual deviance: 11442  on 8318  degrees of freedom\n",
       "AIC: 11472\n",
       "\n",
       "Number of Fisher Scoring iterations: 4\n"
      ]
     },
     "metadata": {},
     "output_type": "display_data"
    },
    {
     "data": {
      "text/plain": [
       "'log Lik.' -5720.775 (df=15)"
      ]
     },
     "metadata": {},
     "output_type": "display_data"
    }
   ],
   "source": [
    "## spec 7\n",
    "dat <- raw %>% \n",
    "    filter(num_faces==1)\n",
    "model = glm(offered ~ quality + beauty + face_proximity + asymmetry + female + seller_level + seller_verification_email + seller_verification_phone + seller_verification_fb + product_price + product_images + log(product_title_length) + category_, family=binomial, data=dat)\n",
    "summary(model)\n",
    "logLik(model)"
   ]
  },
  {
   "cell_type": "code",
   "execution_count": 11,
   "metadata": {},
   "outputs": [
    {
     "data": {
      "text/plain": [
       "\n",
       "Call:\n",
       "glm(formula = offered ~ quality + beauty + face_proximity + Intensity + \n",
       "    I(Intensity^2) + asymmetry + female + seller_level + seller_verification_email + \n",
       "    seller_verification_phone + seller_verification_fb + product_price + \n",
       "    product_images + log(product_title_length) + category_, family = binomial, \n",
       "    data = dat)\n",
       "\n",
       "Deviance Residuals: \n",
       "    Min       1Q   Median       3Q      Max  \n",
       "-1.5905  -1.1269  -0.9878   1.2039   1.5403  \n",
       "\n",
       "Coefficients:\n",
       "                            Estimate Std. Error z value Pr(>|z|)    \n",
       "(Intercept)                8.395e-03  2.925e-01   0.029 0.977105    \n",
       "quality                   -2.088e-01  2.798e-01  -0.746 0.455522    \n",
       "beauty                    -5.189e-02  3.934e-02  -1.319 0.187092    \n",
       "face_proximity             2.699e-01  1.394e-01   1.936 0.052886 .  \n",
       "Intensity                  1.661e-01  3.416e-01   0.486 0.626738    \n",
       "I(Intensity^2)            -4.559e-01  3.307e-01  -1.379 0.168011    \n",
       "asymmetry                 -2.096e-02  4.628e-02  -0.453 0.650559    \n",
       "female                    -1.596e-01  4.746e-02  -3.363 0.000771 ***\n",
       "seller_level              -2.186e-02  9.405e-03  -2.324 0.020099 *  \n",
       "seller_verification_email -1.428e-01  5.949e-02  -2.400 0.016410 *  \n",
       "seller_verification_phone -6.300e-02  1.205e-01  -0.523 0.600988    \n",
       "seller_verification_fb     1.394e-01  4.575e-02   3.048 0.002306 ** \n",
       "product_price             -3.005e-08  1.346e-07  -0.223 0.823358    \n",
       "product_images             5.054e-02  1.013e-02   4.988 6.09e-07 ***\n",
       "log(product_title_length)  5.255e-02  3.517e-02   1.494 0.135124    \n",
       "category_elec              1.615e-01  6.775e-02   2.383 0.017172 *  \n",
       "category_makeup            2.224e-01  5.248e-02   4.238 2.26e-05 ***\n",
       "---\n",
       "Signif. codes:  0 ‘***’ 0.001 ‘**’ 0.01 ‘*’ 0.05 ‘.’ 0.1 ‘ ’ 1\n",
       "\n",
       "(Dispersion parameter for binomial family taken to be 1)\n",
       "\n",
       "    Null deviance: 11530  on 8332  degrees of freedom\n",
       "Residual deviance: 11429  on 8316  degrees of freedom\n",
       "AIC: 11463\n",
       "\n",
       "Number of Fisher Scoring iterations: 4\n"
      ]
     },
     "metadata": {},
     "output_type": "display_data"
    },
    {
     "data": {
      "text/plain": [
       "'log Lik.' -5714.281 (df=17)"
      ]
     },
     "metadata": {},
     "output_type": "display_data"
    }
   ],
   "source": [
    "## spec 8\n",
    "dat <- raw %>% \n",
    "    filter(num_faces==1)\n",
    "model = glm(offered ~ quality + beauty + face_proximity + Intensity + I(Intensity^2) + asymmetry + female + seller_level + seller_verification_email + seller_verification_phone + seller_verification_fb + product_price + product_images + log(product_title_length) + category_, family=binomial, data=dat)\n",
    "summary(model)\n",
    "logLik(model)"
   ]
  },
  {
   "cell_type": "code",
   "execution_count": null,
   "metadata": {},
   "outputs": [],
   "source": []
  }
 ],
 "metadata": {
  "kernelspec": {
   "display_name": "R",
   "language": "R",
   "name": "ir"
  },
  "language_info": {
   "codemirror_mode": "r",
   "file_extension": ".r",
   "mimetype": "text/x-r-source",
   "name": "R",
   "pygments_lexer": "r",
   "version": "3.6.3"
  }
 },
 "nbformat": 4,
 "nbformat_minor": 4
}
