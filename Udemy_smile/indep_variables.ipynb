{
 "cells": [
  {
   "cell_type": "code",
   "execution_count": 1,
   "metadata": {},
   "outputs": [],
   "source": [
    "import os, sys\n",
    "import cv2\n",
    "import time\n",
    "import pickle\n",
    "import shutil\n",
    "import argparse\n",
    "import traceback\n",
    "import numpy as np\n",
    "import pandas as pd\n",
    "from tqdm import tqdm\n",
    "import random\n",
    "from code.utils import *"
   ]
  },
  {
   "cell_type": "markdown",
   "metadata": {},
   "source": [
    "# Create dataframes for interested independent variables\n",
    "* Interested independent variables: smile duration, smile timing, intensity, facial asymmetry\n",
    "* Integrate these values from all videos into several dataframes"
   ]
  },
  {
   "cell_type": "code",
   "execution_count": 2,
   "metadata": {},
   "outputs": [],
   "source": [
    "## video subfolders\n",
    "freq = 5\n",
    "category = 'pd'\n",
    "if category == 'pd':\n",
    "    video_folders = ['pd_1-100', 'pd_101-200', 'pd_201-300', 'pd_301-400', 'pd_401-500',\n",
    "                 'pd_501-600', 'pd_601-700', 'pd_701-800', 'pd_801-897']\n",
    "elif category == 'fin':\n",
    "    video_folders = ['video_1-100', 'video_101-200', 'video_201-300', 'video_301-350', 'video_351-400', 'video_401-500', \\\n",
    "                     'video_501-580', 'video_581-660', 'video_661-740', 'video_741-820', 'video_821-900']\n",
    "video_paths = [f'{category}/{x}' for x in video_folders]\n",
    "video_lookup = dict.fromkeys(video_folders)\n",
    "for i, k in enumerate(video_lookup.keys()):\n",
    "    video_lookup[k] = [os.path.splitext(x)[0] for x in os.listdir(f'/home/xyubl/Downloads/{k}')]\n",
    "video_lookup_inv = {}\n",
    "for k, v in video_lookup.items():\n",
    "    for vid in v:\n",
    "        video_lookup_inv[vid] = k"
   ]
  },
  {
   "cell_type": "code",
   "execution_count": 3,
   "metadata": {
    "tags": []
   },
   "outputs": [],
   "source": [
    "## utility functions\n",
    "def split(a, n):\n",
    "    k, m = divmod(len(a), n)\n",
    "    return (a[i*k+min(i, m):(i+1)*k+min(i+1, m)] for i in range(n))\n",
    "\n",
    "def get_land_diff(lands):\n",
    "    n = len(lands)\n",
    "    diffs = np.diff(lands, axis=0) # (n-1, 68, 2)\n",
    "    tmp = np.vstack(diffs) # ((n-1)*68, 2)\n",
    "    norms = np.linalg.norm(tmp, axis=1).reshape(68, n-1)\n",
    "    med = np.median(np.mean(norms, axis=0))\n",
    "    return med"
   ]
  },
  {
   "cell_type": "code",
   "execution_count": 4,
   "metadata": {
    "tags": []
   },
   "outputs": [],
   "source": [
    "## calculate smile duration, timing and filter info for all videos\n",
    "all_duration, all_timing_3, all_intensity, all_asymmetry, all_filter = {}, {}, {}, {}, {}\n",
    "for video_folder, video_path in zip(video_folders, video_paths):\n",
    "    dur_df = pd.DataFrame(columns=['Video_ID', 'showup', 'smile_duration', 'duration', 'smile_proportion'])\n",
    "    tim3_df = pd.DataFrame(columns=['Video_ID', 'showup', 'beginning', 'middle', 'end'])\n",
    "    inten_df = pd.DataFrame(columns=['Video_ID', 'showup', 'Intensity'])\n",
    "    asym_df = pd.DataFrame(columns=['Video_ID', 'showup', 'asymmetry'])\n",
    "    filter_df = pd.DataFrame(columns=['Video_ID', 'showup', 'video_duration', 'showup_proportion', 'frame_land_diff', 'align_land_diff'])\n",
    "    videos = os.listdir(f'{video_path}/freq1_scores')\n",
    "    for video in tqdm(videos):\n",
    "        # video info\n",
    "        cap = cv2.VideoCapture(f'/home/xyubl/Downloads/{video_folder}/{video}.mp4')\n",
    "        fps = int(cap.get(cv2.CAP_PROP_FPS))\n",
    "        frame_count = int(cap.get(cv2. CAP_PROP_FRAME_COUNT))\n",
    "        video_duration = round(frame_count/fps, 2) # seconds\n",
    "        # whether speaker shows up\n",
    "        emo_file = f'{video_path}/freq{freq}_scores/{video}/target_emotion_vai.csv'\n",
    "        asym_file = f'{video_path}/freq{freq}_scores/{video}/target_asymmetry.csv'\n",
    "        # print(f'Video {video} speaker shows up: {os.path.exists(emo_file)}')\n",
    "        if os.path.exists(emo_file):\n",
    "            emo_df = pd.read_csv(emo_file, sep='\\t')\n",
    "            asym_df_ = pd.read_csv(asym_file, sep='\\t')\n",
    "            ## get time and smiling frames\n",
    "            time = [int(x.split('_')[1].replace('msec', ''))/1000 for x in emo_df.Frame_ID.values.tolist()]\n",
    "            emo = emo_df.iloc[:,1:9].values.argmax(axis=1)\n",
    "            smile = (emo == 1).astype(int)\n",
    "            # get smiling duration\n",
    "            smile_dur = smile.sum() * fps\n",
    "            dur = len(smile) * fps\n",
    "            smile_prop = smile_dur / dur\n",
    "            # print(fps, smile_dur, dur, smile_prop)\n",
    "            dur_df.loc[len(dur_df)] = [video, 1, smile_dur, dur, smile_prop]\n",
    "            ## timing 3\n",
    "            if len(smile) < 3:\n",
    "                tim3_df.loc[len(tim3_df)] = [video, 1, 0, 0, 0]\n",
    "            else:\n",
    "                chunks = list(split(smile, 3))\n",
    "                chunk_props = [sum(x)/len(x) for x in chunks]\n",
    "                tim3_df.loc[len(tim3_df)] = [video, 1] + chunk_props\n",
    "            ## intensity\n",
    "            inten_df.loc[len(inten_df)] = [video, 1, emo_df.Intensity.mean()]\n",
    "            ## asymmetry\n",
    "            asym_df.loc[len(asym_df)] = [video, 1, asym_df_.asymmetry.mean()]\n",
    "\n",
    "            ## filter info\n",
    "            # showup_proportion = len(smile) / frame_count * (fps / freq)\n",
    "            with open(f'{video_path}/freq1_scores/{video}/frame_info_2d_68pts_encodings.pkl', 'rb') as f:\n",
    "                tmp = pickle.load(f)\n",
    "            info = pd.read_csv(f'{video_path}/freq1_scores/{video}/frame_info.csv', sep='\\t')\n",
    "            showup_proportion = len(info) / frame_count * fps\n",
    "            target_frames = info.loc[info['is_target']==1, 'Frame_ID'].values.tolist()\n",
    "            frame_lands, align_lands = [], []\n",
    "            for k in target_frames:\n",
    "                frame_lands.append(landmarks_to_np(tmp[k]['2d_landmark']))\n",
    "                img = cv2.imread(f'{video_path}/freq1_aligned/{video}/{k}.jpg')\n",
    "                face_locations = face_detector(img)\n",
    "                if len(face_locations) == 1:\n",
    "                    face_location = face_locations[0]\n",
    "                    landmark = pose_predictor_68_point(img, face_location)\n",
    "                    save_2d_landmarks = landmarks_to_np(landmark) \n",
    "                    align_lands.append(save_2d_landmarks)\n",
    "            if len(frame_lands) > 0:\n",
    "                frame_land_diff = get_land_diff(frame_lands)\n",
    "            else:\n",
    "                frame_land_diff = None\n",
    "            if len(align_lands) > 0:\n",
    "                align_land_diff = get_land_diff(align_lands)\n",
    "            else:\n",
    "                align_land_diff = None\n",
    "            filter_df.loc[len(filter_df)] = [video, 1, video_duration, showup_proportion, frame_land_diff, align_land_diff]\n",
    "            # print([video, 1, video_duration, showup_proportion, frame_land_diff, align_land_diff])\n",
    "        else:\n",
    "            dur_df.loc[len(dur_df)] = [video, 0, None, None, None]\n",
    "            tim3_df.loc[len(tim3_df)] = [video, 0, None, None, None]\n",
    "            filter_df.loc[len(filter_df)] = [video, 0, video_duration, 0, None, None]\n",
    "            inten_df.loc[len(inten_df)] = [video, 0, None]\n",
    "            asym_df.loc[len(asym_df)] = [video, 0, None]\n",
    "    all_duration[video_folder] = dur_df\n",
    "    all_timing_3[video_folder] = tim3_df\n",
    "    all_intensity[video_folder] = inten_df\n",
    "    all_asymmetry[video_folder] = asym_df\n",
    "    all_filter[video_folder] = filter_df\n",
    "\n",
    "    print(video_path)"
   ]
  },
  {
   "cell_type": "code",
   "execution_count": 5,
   "metadata": {},
   "outputs": [],
   "source": [
    "## concatenate all video folders\n",
    "all_duration_df = pd.concat(all_duration.values()).sort_values(by='Video_ID').reset_index(drop=True)\n",
    "all_timing_3_df = pd.concat(all_timing_3.values()).sort_values(by='Video_ID').reset_index(drop=True)\n",
    "all_intensity_df = pd.concat(all_intensity.values()).sort_values(by='Video_ID').reset_index(drop=True)\n",
    "all_asymmetry_df = pd.concat(all_asymmetry.values()).sort_values(by='Video_ID').reset_index(drop=True)\n",
    "all_filter_df = pd.concat(all_filter.values()).sort_values(by='Video_ID').reset_index(drop=True)\n",
    "all_duration_df.shape, all_timing_3_df.shape, all_intensity_df.shape, all_asymmetry_df.shape, all_filter_df.shape"
   ]
  },
  {
   "cell_type": "code",
   "execution_count": 6,
   "metadata": {},
   "outputs": [],
   "source": [
    "## save dataframes\n",
    "all_duration_df.to_csv(f'{category}/duration_freq{freq}.csv', sep='\\t', index=False)\n",
    "all_timing_3_df.to_csv(f'{category}/timing_3_freq{freq}.csv', sep='\\t', index=False)\n",
    "all_intensity_df.to_csv(f'{category}/intensity_freq{freq}.csv', sep='\\t', index=False)\n",
    "all_asymmetry_df.to_csv(f'{category}/asymmetry_freq{freq}.csv', sep='\\t', index=False)\n",
    "all_filter_df.to_csv(f'{category}/video_filter.csv', sep='\\t', index=False)"
   ]
  },
  {
   "cell_type": "code",
   "execution_count": null,
   "metadata": {},
   "outputs": [],
   "source": []
  }
 ],
 "metadata": {
  "kernelspec": {
   "display_name": "Python 3",
   "language": "python",
   "name": "python3"
  },
  "language_info": {
   "codemirror_mode": {
    "name": "ipython",
    "version": 3
   },
   "file_extension": ".py",
   "mimetype": "text/x-python",
   "name": "python",
   "nbconvert_exporter": "python",
   "pygments_lexer": "ipython3",
   "version": "3.7.11"
  }
 },
 "nbformat": 4,
 "nbformat_minor": 4
}
