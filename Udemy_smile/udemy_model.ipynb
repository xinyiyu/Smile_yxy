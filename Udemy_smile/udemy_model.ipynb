{
 "cells": [
  {
   "cell_type": "code",
   "execution_count": 1,
   "metadata": {
    "collapsed": true,
    "jupyter": {
     "outputs_hidden": true
    },
    "tags": []
   },
   "outputs": [
    {
     "name": "stderr",
     "output_type": "stream",
     "text": [
      "── \u001b[1mAttaching packages\u001b[22m ──────────────────────────────────────────────────────── tidyverse 1.3.1 ──\n",
      "\n",
      "\u001b[32m✔\u001b[39m \u001b[34mggplot2\u001b[39m 3.3.5     \u001b[32m✔\u001b[39m \u001b[34mdplyr  \u001b[39m 1.0.8\n",
      "\u001b[32m✔\u001b[39m \u001b[34mtidyr  \u001b[39m 1.2.0     \u001b[32m✔\u001b[39m \u001b[34mstringr\u001b[39m 1.4.0\n",
      "\u001b[32m✔\u001b[39m \u001b[34mreadr  \u001b[39m 2.1.2     \u001b[32m✔\u001b[39m \u001b[34mforcats\u001b[39m 0.5.1\n",
      "\u001b[32m✔\u001b[39m \u001b[34mpurrr  \u001b[39m 0.3.4     \n",
      "\n",
      "── \u001b[1mConflicts\u001b[22m ─────────────────────────────────────────────────────────── tidyverse_conflicts() ──\n",
      "\u001b[31m✖\u001b[39m \u001b[34mdplyr\u001b[39m::\u001b[32mfilter()\u001b[39m masks \u001b[34mstats\u001b[39m::filter()\n",
      "\u001b[31m✖\u001b[39m \u001b[34mdplyr\u001b[39m::\u001b[32mlag()\u001b[39m    masks \u001b[34mstats\u001b[39m::lag()\n",
      "\n",
      "Loading required package: Matrix\n",
      "\n",
      "\n",
      "Attaching package: ‘Matrix’\n",
      "\n",
      "\n",
      "The following objects are masked from ‘package:tidyr’:\n",
      "\n",
      "    expand, pack, unpack\n",
      "\n",
      "\n",
      "\n",
      "Attaching package: ‘data.table’\n",
      "\n",
      "\n",
      "The following objects are masked from ‘package:dplyr’:\n",
      "\n",
      "    between, first, last\n",
      "\n",
      "\n",
      "The following object is masked from ‘package:purrr’:\n",
      "\n",
      "    transpose\n",
      "\n",
      "\n"
     ]
    }
   ],
   "source": [
    "library(tibble)\n",
    "library(tidyverse)\n",
    "library(lme4)\n",
    "library(data.table)"
   ]
  },
  {
   "cell_type": "code",
   "execution_count": 2,
   "metadata": {},
   "outputs": [],
   "source": [
    "all = fread('all_variables.csv', sep='\\t', header=T)\n",
    "all <- all %>% mutate_if(is.character, list(~na_if(.,\"\"))) "
   ]
  },
  {
   "cell_type": "markdown",
   "metadata": {
    "tags": []
   },
   "source": [
    "# Dependent variable: log(student number)"
   ]
  },
  {
   "cell_type": "code",
   "execution_count": 3,
   "metadata": {},
   "outputs": [],
   "source": [
    "all$category = factor(all$category, levels=c('personal development', 'finance'))\n",
    "all$log_students_num = log(all$Students_Num)"
   ]
  },
  {
   "cell_type": "code",
   "execution_count": 4,
   "metadata": {},
   "outputs": [
    {
     "data": {
      "text/plain": [
       "\n",
       "Call:\n",
       "lm(formula = log_students_num ~ quality + showup + beauty + male + \n",
       "    Rating_of_Tch_1 + Courses_of_Tch_1 + Selling_Price + log_description_length + \n",
       "    category, data = dat)\n",
       "\n",
       "Residuals:\n",
       "    Min      1Q  Median      3Q     Max \n",
       "-2.7207 -0.9884 -0.0822  0.8798  3.9977 \n",
       "\n",
       "Coefficients:\n",
       "                         Estimate Std. Error t value Pr(>|t|)    \n",
       "(Intercept)             6.4817173  0.8047580   8.054 1.77e-15 ***\n",
       "quality                 0.5899699  0.5013632   1.177 0.239515    \n",
       "showup                  0.1414968  0.0893214   1.584 0.113404    \n",
       "beauty                  0.2370684  0.0803453   2.951 0.003227 ** \n",
       "male                    0.4937224  0.0888907   5.554 3.37e-08 ***\n",
       "Rating_of_Tch_1        -0.1755866  0.1444116  -1.216 0.224249    \n",
       "Courses_of_Tch_1        0.0088920  0.0009092   9.780  < 2e-16 ***\n",
       "Selling_Price           0.0009194  0.0019951   0.461 0.645013    \n",
       "log_description_length  0.2766535  0.0970849   2.850 0.004445 ** \n",
       "categoryfinance        -0.2774577  0.0751635  -3.691 0.000232 ***\n",
       "---\n",
       "Signif. codes:  0 ‘***’ 0.001 ‘**’ 0.01 ‘*’ 0.05 ‘.’ 0.1 ‘ ’ 1\n",
       "\n",
       "Residual standard error: 1.28 on 1320 degrees of freedom\n",
       "  (467 observations deleted due to missingness)\n",
       "Multiple R-squared:  0.1068,\tAdjusted R-squared:  0.1008 \n",
       "F-statistic: 17.54 on 9 and 1320 DF,  p-value: < 2.2e-16\n"
      ]
     },
     "metadata": {},
     "output_type": "display_data"
    },
    {
     "data": {
      "text/plain": [
       "'log Lik.' -2210.237 (df=11)"
      ]
     },
     "metadata": {},
     "output_type": "display_data"
    }
   ],
   "source": [
    "## spec1\n",
    "dat <- all[all$preview==1,]\n",
    "model = lm(log_students_num ~ quality + showup + beauty + \n",
    "           male + Rating_of_Tch_1 + Courses_of_Tch_1 + \n",
    "           Selling_Price + log_description_length + category, data=dat)\n",
    "summary(model)\n",
    "logLik(model)"
   ]
  },
  {
   "cell_type": "code",
   "execution_count": 5,
   "metadata": {},
   "outputs": [
    {
     "data": {
      "text/plain": [
       "\n",
       "Call:\n",
       "lm(formula = log_students_num ~ quality + beauty + smile_proportion + \n",
       "    male + Rating_of_Tch_1 + Courses_of_Tch_1 + Selling_Price + \n",
       "    log_description_length + category, data = dat)\n",
       "\n",
       "Residuals:\n",
       "    Min      1Q  Median      3Q     Max \n",
       "-2.6436 -0.9751 -0.0307  0.8786  3.9665 \n",
       "\n",
       "Coefficients:\n",
       "                        Estimate Std. Error t value Pr(>|t|)    \n",
       "(Intercept)             7.089222   1.052572   6.735 2.80e-11 ***\n",
       "quality                 0.767261   0.596131   1.287   0.1984    \n",
       "beauty                  0.152081   0.097203   1.565   0.1180    \n",
       "smile_proportion        0.215146   0.257890   0.834   0.4043    \n",
       "male                    0.613219   0.102560   5.979 3.15e-09 ***\n",
       "Rating_of_Tch_1        -0.303700   0.184450  -1.647   0.1000 .  \n",
       "Courses_of_Tch_1        0.009416   0.001032   9.123  < 2e-16 ***\n",
       "Selling_Price           0.001755   0.002157   0.814   0.4160    \n",
       "log_description_length  0.290972   0.115711   2.515   0.0121 *  \n",
       "categoryfinance        -0.200016   0.088552  -2.259   0.0241 *  \n",
       "---\n",
       "Signif. codes:  0 ‘***’ 0.001 ‘**’ 0.01 ‘*’ 0.05 ‘.’ 0.1 ‘ ’ 1\n",
       "\n",
       "Residual standard error: 1.284 on 972 degrees of freedom\n",
       "Multiple R-squared:  0.1294,\tAdjusted R-squared:  0.1213 \n",
       "F-statistic: 16.05 on 9 and 972 DF,  p-value: < 2.2e-16\n"
      ]
     },
     "metadata": {},
     "output_type": "display_data"
    },
    {
     "data": {
      "text/plain": [
       "'log Lik.' -1633.935 (df=11)"
      ]
     },
     "metadata": {},
     "output_type": "display_data"
    }
   ],
   "source": [
    "## spec2\n",
    "dat <- all[all$showup==1,]\n",
    "model = lm(log_students_num ~ quality + beauty + smile_proportion +\n",
    "           male + Rating_of_Tch_1 + Courses_of_Tch_1 + \n",
    "           Selling_Price + log_description_length + category, data=dat)\n",
    "summary(model)\n",
    "logLik(model)"
   ]
  },
  {
   "cell_type": "code",
   "execution_count": 6,
   "metadata": {},
   "outputs": [
    {
     "data": {
      "text/plain": [
       "\n",
       "Call:\n",
       "lm(formula = log_students_num ~ quality + beauty + smile_proportion + \n",
       "    I(smile_proportion^2) + male + Rating_of_Tch_1 + Courses_of_Tch_1 + \n",
       "    Selling_Price + log_description_length + category, data = dat)\n",
       "\n",
       "Residuals:\n",
       "    Min      1Q  Median      3Q     Max \n",
       "-2.6967 -0.9891 -0.0146  0.8985  4.0013 \n",
       "\n",
       "Coefficients:\n",
       "                        Estimate Std. Error t value Pr(>|t|)    \n",
       "(Intercept)             6.854406   1.057156   6.484 1.42e-10 ***\n",
       "quality                 0.786739   0.595241   1.322   0.1866    \n",
       "beauty                  0.166291   0.097296   1.709   0.0877 .  \n",
       "smile_proportion        1.486714   0.674647   2.204   0.0278 *  \n",
       "I(smile_proportion^2)  -2.330583   1.142930  -2.039   0.0417 *  \n",
       "male                    0.619449   0.102439   6.047 2.10e-09 ***\n",
       "Rating_of_Tch_1        -0.275726   0.184661  -1.493   0.1357    \n",
       "Courses_of_Tch_1        0.009490   0.001031   9.203  < 2e-16 ***\n",
       "Selling_Price           0.001769   0.002154   0.822   0.4115    \n",
       "log_description_length  0.289774   0.115525   2.508   0.0123 *  \n",
       "categoryfinance        -0.205416   0.088448  -2.322   0.0204 *  \n",
       "---\n",
       "Signif. codes:  0 ‘***’ 0.001 ‘**’ 0.01 ‘*’ 0.05 ‘.’ 0.1 ‘ ’ 1\n",
       "\n",
       "Residual standard error: 1.282 on 971 degrees of freedom\n",
       "Multiple R-squared:  0.1331,\tAdjusted R-squared:  0.1242 \n",
       "F-statistic: 14.91 on 10 and 971 DF,  p-value: < 2.2e-16\n"
      ]
     },
     "metadata": {},
     "output_type": "display_data"
    },
    {
     "data": {
      "text/plain": [
       "'log Lik.' -1631.837 (df=12)"
      ]
     },
     "metadata": {},
     "output_type": "display_data"
    }
   ],
   "source": [
    "## spec3\n",
    "dat <- all[all$showup==1,]\n",
    "model = lm(log_students_num ~ quality + beauty + smile_proportion + I(smile_proportion^2) +\n",
    "           male + Rating_of_Tch_1 + Courses_of_Tch_1 + \n",
    "           Selling_Price + log_description_length + category, data=dat)\n",
    "summary(model)\n",
    "logLik(model)"
   ]
  },
  {
   "cell_type": "code",
   "execution_count": 7,
   "metadata": {},
   "outputs": [
    {
     "data": {
      "text/plain": [
       "\n",
       "Call:\n",
       "lm(formula = log_students_num ~ quality + beauty + beginning + \n",
       "    middle + end + male + Rating_of_Tch_1 + Courses_of_Tch_1 + \n",
       "    Selling_Price + log_description_length + category, data = dat)\n",
       "\n",
       "Residuals:\n",
       "    Min      1Q  Median      3Q     Max \n",
       "-2.9715 -0.9763 -0.0286  0.8605  3.9540 \n",
       "\n",
       "Coefficients:\n",
       "                        Estimate Std. Error t value Pr(>|t|)    \n",
       "(Intercept)             6.939135   1.057409   6.562 8.61e-11 ***\n",
       "quality                 0.815343   0.597068   1.366   0.1724    \n",
       "beauty                  0.163934   0.097843   1.675   0.0942 .  \n",
       "beginning              -0.068981   0.433459  -0.159   0.8736    \n",
       "middle                 -0.511711   0.561416  -0.911   0.3623    \n",
       "end                     0.744912   0.460739   1.617   0.1063    \n",
       "male                    0.616505   0.102580   6.010 2.62e-09 ***\n",
       "Rating_of_Tch_1        -0.288127   0.184790  -1.559   0.1193    \n",
       "Courses_of_Tch_1        0.009520   0.001035   9.201  < 2e-16 ***\n",
       "Selling_Price           0.001805   0.002157   0.837   0.4029    \n",
       "log_description_length  0.290857   0.115745   2.513   0.0121 *  \n",
       "categoryfinance        -0.199864   0.088589  -2.256   0.0243 *  \n",
       "---\n",
       "Signif. codes:  0 ‘***’ 0.001 ‘**’ 0.01 ‘*’ 0.05 ‘.’ 0.1 ‘ ’ 1\n",
       "\n",
       "Residual standard error: 1.284 on 970 degrees of freedom\n",
       "Multiple R-squared:  0.1314,\tAdjusted R-squared:  0.1216 \n",
       "F-statistic: 13.34 on 11 and 970 DF,  p-value: < 2.2e-16\n"
      ]
     },
     "metadata": {},
     "output_type": "display_data"
    },
    {
     "data": {
      "text/plain": [
       "'log Lik.' -1632.792 (df=13)"
      ]
     },
     "metadata": {},
     "output_type": "display_data"
    }
   ],
   "source": [
    "## spec4\n",
    "dat <- all[all$showup==1,]\n",
    "model = lm(log_students_num ~ quality + beauty + beginning + middle + end +\n",
    "           male + Rating_of_Tch_1 + Courses_of_Tch_1 + \n",
    "           Selling_Price + log_description_length + category, data=dat)\n",
    "summary(model)\n",
    "logLik(model)"
   ]
  },
  {
   "cell_type": "code",
   "execution_count": 8,
   "metadata": {},
   "outputs": [
    {
     "data": {
      "text/plain": [
       "\n",
       "Call:\n",
       "lm(formula = log_students_num ~ quality + beauty + Intensity + \n",
       "    male + Rating_of_Tch_1 + Courses_of_Tch_1 + Selling_Price + \n",
       "    log_description_length + category, data = dat)\n",
       "\n",
       "Residuals:\n",
       "    Min      1Q  Median      3Q     Max \n",
       "-2.6199 -0.9768 -0.0348  0.8659  3.9616 \n",
       "\n",
       "Coefficients:\n",
       "                        Estimate Std. Error t value Pr(>|t|)    \n",
       "(Intercept)             7.000105   1.054065   6.641 5.17e-11 ***\n",
       "quality                 0.662694   0.594312   1.115   0.2651    \n",
       "beauty                  0.155116   0.097114   1.597   0.1105    \n",
       "Intensity               0.486120   0.338686   1.435   0.1515    \n",
       "male                    0.625112   0.102993   6.069 1.84e-09 ***\n",
       "Rating_of_Tch_1        -0.310155   0.184365  -1.682   0.0928 .  \n",
       "Courses_of_Tch_1        0.009615   0.001020   9.424  < 2e-16 ***\n",
       "Selling_Price           0.001819   0.002150   0.846   0.3976    \n",
       "log_description_length  0.288599   0.115631   2.496   0.0127 *  \n",
       "categoryfinance        -0.194211   0.088629  -2.191   0.0287 *  \n",
       "---\n",
       "Signif. codes:  0 ‘***’ 0.001 ‘**’ 0.01 ‘*’ 0.05 ‘.’ 0.1 ‘ ’ 1\n",
       "\n",
       "Residual standard error: 1.283 on 972 degrees of freedom\n",
       "Multiple R-squared:  0.1306,\tAdjusted R-squared:  0.1225 \n",
       "F-statistic: 16.22 on 9 and 972 DF,  p-value: < 2.2e-16\n"
      ]
     },
     "metadata": {},
     "output_type": "display_data"
    },
    {
     "data": {
      "text/plain": [
       "'log Lik.' -1633.247 (df=11)"
      ]
     },
     "metadata": {},
     "output_type": "display_data"
    }
   ],
   "source": [
    "## spec5\n",
    "dat <- all[all$showup==1,]\n",
    "model = lm(log_students_num ~ quality + beauty + Intensity +\n",
    "           male + Rating_of_Tch_1 + Courses_of_Tch_1 + \n",
    "           Selling_Price + log_description_length + category, data=dat)\n",
    "summary(model)\n",
    "logLik(model)"
   ]
  },
  {
   "cell_type": "code",
   "execution_count": 9,
   "metadata": {},
   "outputs": [
    {
     "data": {
      "text/plain": [
       "\n",
       "Call:\n",
       "lm(formula = log_students_num ~ quality + beauty + Intensity + \n",
       "    I(Intensity^2) + male + Rating_of_Tch_1 + Courses_of_Tch_1 + \n",
       "    Selling_Price + log_description_length + category, data = dat)\n",
       "\n",
       "Residuals:\n",
       "    Min      1Q  Median      3Q     Max \n",
       "-2.6510 -0.9898 -0.0363  0.8793  3.9245 \n",
       "\n",
       "Coefficients:\n",
       "                        Estimate Std. Error t value Pr(>|t|)    \n",
       "(Intercept)             6.136959   1.107391   5.542 3.86e-08 ***\n",
       "quality                 0.652607   0.592757   1.101  0.27118    \n",
       "beauty                  0.183334   0.097524   1.880  0.06042 .  \n",
       "Intensity               4.736274   1.746642   2.712  0.00681 ** \n",
       "I(Intensity^2)         -4.806783   1.938101  -2.480  0.01330 *  \n",
       "male                    0.625878   0.102721   6.093 1.60e-09 ***\n",
       "Rating_of_Tch_1        -0.318599   0.183910  -1.732  0.08353 .  \n",
       "Courses_of_Tch_1        0.009419   0.001021   9.229  < 2e-16 ***\n",
       "Selling_Price           0.001683   0.002145   0.785  0.43276    \n",
       "log_description_length  0.275639   0.115444   2.388  0.01715 *  \n",
       "categoryfinance        -0.181268   0.088549  -2.047  0.04092 *  \n",
       "---\n",
       "Signif. codes:  0 ‘***’ 0.001 ‘**’ 0.01 ‘*’ 0.05 ‘.’ 0.1 ‘ ’ 1\n",
       "\n",
       "Residual standard error: 1.28 on 971 degrees of freedom\n",
       "Multiple R-squared:  0.1361,\tAdjusted R-squared:  0.1272 \n",
       "F-statistic: 15.29 on 10 and 971 DF,  p-value: < 2.2e-16\n"
      ]
     },
     "metadata": {},
     "output_type": "display_data"
    },
    {
     "data": {
      "text/plain": [
       "'log Lik.' -1630.146 (df=12)"
      ]
     },
     "metadata": {},
     "output_type": "display_data"
    }
   ],
   "source": [
    "## spec6\n",
    "dat <- all[all$showup==1,]\n",
    "model = lm(log_students_num ~ quality + beauty + Intensity + I(Intensity^2) +\n",
    "           male + Rating_of_Tch_1 + Courses_of_Tch_1 + \n",
    "           Selling_Price + log_description_length + category, data=dat)\n",
    "summary(model)\n",
    "logLik(model)"
   ]
  },
  {
   "cell_type": "code",
   "execution_count": 10,
   "metadata": {},
   "outputs": [
    {
     "data": {
      "text/plain": [
       "\n",
       "Call:\n",
       "lm(formula = log_students_num ~ quality + beauty + asymmetry + \n",
       "    male + Rating_of_Tch_1 + Courses_of_Tch_1 + Selling_Price + \n",
       "    log_description_length + category, data = dat)\n",
       "\n",
       "Residuals:\n",
       "    Min      1Q  Median      3Q     Max \n",
       "-2.6496 -0.9677 -0.0382  0.8676  3.9365 \n",
       "\n",
       "Coefficients:\n",
       "                        Estimate Std. Error t value Pr(>|t|)    \n",
       "(Intercept)             7.179412   1.056801   6.794 1.90e-11 ***\n",
       "quality                 0.719555   0.593612   1.212   0.2257    \n",
       "beauty                  0.146428   0.097506   1.502   0.1335    \n",
       "asymmetry              -0.013703   0.177690  -0.077   0.9385    \n",
       "male                    0.607862   0.102526   5.929 4.23e-09 ***\n",
       "Rating_of_Tch_1        -0.304498   0.184540  -1.650   0.0993 .  \n",
       "Courses_of_Tch_1        0.009548   0.001020   9.357  < 2e-16 ***\n",
       "Selling_Price           0.001894   0.002151   0.881   0.3788    \n",
       "log_description_length  0.290608   0.115882   2.508   0.0123 *  \n",
       "categoryfinance        -0.203089   0.088525  -2.294   0.0220 *  \n",
       "---\n",
       "Signif. codes:  0 ‘***’ 0.001 ‘**’ 0.01 ‘*’ 0.05 ‘.’ 0.1 ‘ ’ 1\n",
       "\n",
       "Residual standard error: 1.285 on 972 degrees of freedom\n",
       "Multiple R-squared:  0.1288,\tAdjusted R-squared:  0.1207 \n",
       "F-statistic: 15.96 on 9 and 972 DF,  p-value: < 2.2e-16\n"
      ]
     },
     "metadata": {},
     "output_type": "display_data"
    },
    {
     "data": {
      "text/plain": [
       "'log Lik.' -1634.283 (df=11)"
      ]
     },
     "metadata": {},
     "output_type": "display_data"
    }
   ],
   "source": [
    "## spec7\n",
    "dat <- all[all$showup==1,]\n",
    "model = lm(log_students_num ~ quality + beauty + asymmetry +\n",
    "           male + Rating_of_Tch_1 + Courses_of_Tch_1 + \n",
    "           Selling_Price + log_description_length + category, data=dat)\n",
    "summary(model)\n",
    "logLik(model)"
   ]
  },
  {
   "cell_type": "code",
   "execution_count": 11,
   "metadata": {},
   "outputs": [
    {
     "data": {
      "text/plain": [
       "\n",
       "Call:\n",
       "lm(formula = log_students_num ~ quality + beauty + smile_proportion + \n",
       "    category:smile_proportion + male + Rating_of_Tch_1 + Courses_of_Tch_1 + \n",
       "    Selling_Price + log_description_length + category, data = dat)\n",
       "\n",
       "Residuals:\n",
       "    Min      1Q  Median      3Q     Max \n",
       "-2.6508 -0.9497 -0.0309  0.8689  3.9486 \n",
       "\n",
       "Coefficients:\n",
       "                                  Estimate Std. Error t value Pr(>|t|)    \n",
       "(Intercept)                       7.108785   1.053678   6.747 2.60e-11 ***\n",
       "quality                           0.772037   0.596432   1.294   0.1958    \n",
       "beauty                            0.146203   0.097927   1.493   0.1358    \n",
       "smile_proportion                  0.296179   0.303362   0.976   0.3291    \n",
       "male                              0.612874   0.102601   5.973 3.26e-09 ***\n",
       "Rating_of_Tch_1                  -0.306966   0.184633  -1.663   0.0967 .  \n",
       "Courses_of_Tch_1                  0.009426   0.001033   9.127  < 2e-16 ***\n",
       "Selling_Price                     0.001687   0.002162   0.780   0.4354    \n",
       "log_description_length            0.290670   0.115757   2.511   0.0122 *  \n",
       "categoryfinance                  -0.169001   0.107603  -1.571   0.1166    \n",
       "smile_proportion:categoryfinance -0.286015   0.563305  -0.508   0.6117    \n",
       "---\n",
       "Signif. codes:  0 ‘***’ 0.001 ‘**’ 0.01 ‘*’ 0.05 ‘.’ 0.1 ‘ ’ 1\n",
       "\n",
       "Residual standard error: 1.285 on 971 degrees of freedom\n",
       "Multiple R-squared:  0.1296,\tAdjusted R-squared:  0.1206 \n",
       "F-statistic: 14.46 on 10 and 971 DF,  p-value: < 2.2e-16\n"
      ]
     },
     "metadata": {},
     "output_type": "display_data"
    },
    {
     "data": {
      "text/plain": [
       "'log Lik.' -1633.805 (df=12)"
      ]
     },
     "metadata": {},
     "output_type": "display_data"
    }
   ],
   "source": [
    "## spec8\n",
    "dat <- all[all$showup==1,]\n",
    "model = lm(log_students_num ~ quality + beauty + smile_proportion + category : smile_proportion +\n",
    "           male + Rating_of_Tch_1 + Courses_of_Tch_1 + \n",
    "           Selling_Price + log_description_length + category, data=dat)\n",
    "summary(model)\n",
    "logLik(model)"
   ]
  },
  {
   "cell_type": "code",
   "execution_count": 12,
   "metadata": {},
   "outputs": [
    {
     "data": {
      "text/plain": [
       "\n",
       "Call:\n",
       "lm(formula = log_students_num ~ quality + beauty + smile_proportion + \n",
       "    category:smile_proportion + beginning + middle + end + Intensity + \n",
       "    I(Intensity^2) + asymmetry + male + Rating_of_Tch_1 + Courses_of_Tch_1 + \n",
       "    Selling_Price + log_description_length + category, data = dat)\n",
       "\n",
       "Residuals:\n",
       "    Min      1Q  Median      3Q     Max \n",
       "-3.1423 -0.9571 -0.0301  0.8522  3.9030 \n",
       "\n",
       "Coefficients:\n",
       "                                   Estimate Std. Error t value Pr(>|t|)    \n",
       "(Intercept)                        5.840537   1.125396   5.190 2.57e-07 ***\n",
       "quality                            0.771524   0.596597   1.293  0.19625    \n",
       "beauty                             0.196756   0.099411   1.979  0.04808 *  \n",
       "smile_proportion                 -44.683489  67.431752  -0.663  0.50771    \n",
       "beginning                         14.949661  22.575987   0.662  0.50801    \n",
       "middle                            14.373081  22.534213   0.638  0.52373    \n",
       "end                               15.633416  22.309229   0.701  0.48362    \n",
       "Intensity                          4.989088   1.774388   2.812  0.00503 ** \n",
       "I(Intensity^2)                    -4.976184   1.974497  -2.520  0.01189 *  \n",
       "asymmetry                         -0.066656   0.182412  -0.365  0.71488    \n",
       "male                               0.642838   0.103451   6.214 7.68e-10 ***\n",
       "Rating_of_Tch_1                   -0.300905   0.184711  -1.629  0.10363    \n",
       "Courses_of_Tch_1                   0.009372   0.001036   9.045  < 2e-16 ***\n",
       "Selling_Price                      0.001493   0.002159   0.691  0.48945    \n",
       "log_description_length             0.275795   0.115741   2.383  0.01737 *  \n",
       "categoryfinance                   -0.146448   0.107667  -1.360  0.17409    \n",
       "smile_proportion:categoryfinance  -0.272883   0.565552  -0.483  0.62955    \n",
       "---\n",
       "Signif. codes:  0 ‘***’ 0.001 ‘**’ 0.01 ‘*’ 0.05 ‘.’ 0.1 ‘ ’ 1\n",
       "\n",
       "Residual standard error: 1.281 on 965 degrees of freedom\n",
       "Multiple R-squared:  0.1401,\tAdjusted R-squared:  0.1259 \n",
       "F-statistic: 9.828 on 16 and 965 DF,  p-value: < 2.2e-16\n"
      ]
     },
     "metadata": {},
     "output_type": "display_data"
    },
    {
     "data": {
      "text/plain": [
       "'log Lik.' -1627.84 (df=18)"
      ]
     },
     "metadata": {},
     "output_type": "display_data"
    }
   ],
   "source": [
    "## spec9\n",
    "dat <- all[all$showup==1,]\n",
    "model = lm(log_students_num ~ quality + beauty + smile_proportion + category : smile_proportion +\n",
    "           beginning + middle + end + Intensity + I(Intensity^2) + asymmetry +\n",
    "           male + Rating_of_Tch_1 + Courses_of_Tch_1 + \n",
    "           Selling_Price + log_description_length + category, data=dat)\n",
    "summary(model)\n",
    "logLik(model)"
   ]
  },
  {
   "cell_type": "markdown",
   "metadata": {},
   "source": [
    "# Dependent variable: student number"
   ]
  },
  {
   "cell_type": "code",
   "execution_count": 13,
   "metadata": {},
   "outputs": [
    {
     "data": {
      "text/plain": [
       "\n",
       "Call:\n",
       "lm(formula = Students_Num ~ quality + showup + male + Rating_of_Tch_1 + \n",
       "    Courses_of_Tch_1 + Selling_Price + log_description_length + \n",
       "    category, data = dat)\n",
       "\n",
       "Residuals:\n",
       "   Min     1Q Median     3Q    Max \n",
       "-32222  -6942  -3914    936 294669 \n",
       "\n",
       "Coefficients:\n",
       "                         Estimate Std. Error t value Pr(>|t|)    \n",
       "(Intercept)            -18244.551   8063.838  -2.263  0.02379 *  \n",
       "quality                  8067.819   5380.612   1.499  0.13394    \n",
       "showup                   2344.658    894.605   2.621  0.00884 ** \n",
       "male                     4265.503   1079.145   3.953 8.03e-05 ***\n",
       "Rating_of_Tch_1          1834.822   1553.511   1.181  0.23773    \n",
       "Courses_of_Tch_1           91.122     10.258   8.883  < 2e-16 ***\n",
       "Selling_Price              -9.011     21.346  -0.422  0.67296    \n",
       "log_description_length   2272.002   1086.055   2.092  0.03658 *  \n",
       "categoryfinance           483.638    866.556   0.558  0.57684    \n",
       "---\n",
       "Signif. codes:  0 ‘***’ 0.001 ‘**’ 0.01 ‘*’ 0.05 ‘.’ 0.1 ‘ ’ 1\n",
       "\n",
       "Residual standard error: 16900 on 1788 degrees of freedom\n",
       "Multiple R-squared:  0.06312,\tAdjusted R-squared:  0.05893 \n",
       "F-statistic: 15.06 on 8 and 1788 DF,  p-value: < 2.2e-16\n"
      ]
     },
     "metadata": {},
     "output_type": "display_data"
    },
    {
     "data": {
      "text/plain": [
       "'log Lik.' -20039.08 (df=10)"
      ]
     },
     "metadata": {},
     "output_type": "display_data"
    }
   ],
   "source": [
    "## spec1\n",
    "dat <- all[all$preview==1,]\n",
    "model = lm(Students_Num ~ quality + showup + \n",
    "           male + Rating_of_Tch_1 + Courses_of_Tch_1 +\n",
    "           Selling_Price + log_description_length + category, data=dat)\n",
    "summary(model)\n",
    "logLik(model)"
   ]
  },
  {
   "cell_type": "code",
   "execution_count": 14,
   "metadata": {},
   "outputs": [
    {
     "data": {
      "text/plain": [
       "\n",
       "Call:\n",
       "lm(formula = Students_Num ~ quality + beauty + smile_proportion + \n",
       "    male + Rating_of_Tch_1 + Courses_of_Tch_1 + Selling_Price + \n",
       "    log_description_length + category, data = dat)\n",
       "\n",
       "Residuals:\n",
       "   Min     1Q Median     3Q    Max \n",
       "-24510  -7992  -4196   1082 291303 \n",
       "\n",
       "Coefficients:\n",
       "                        Estimate Std. Error t value Pr(>|t|)    \n",
       "(Intercept)            -22351.23   16579.97  -1.348 0.177945    \n",
       "quality                  3038.98    9390.17   0.324 0.746285    \n",
       "beauty                   1561.25    1531.14   1.020 0.308139    \n",
       "smile_proportion         3023.39    4062.25   0.744 0.456896    \n",
       "male                     5852.26    1615.51   3.623 0.000307 ***\n",
       "Rating_of_Tch_1          2223.46    2905.43   0.765 0.444292    \n",
       "Courses_of_Tch_1          118.28      16.26   7.275 7.13e-13 ***\n",
       "Selling_Price              12.42      33.98   0.365 0.714869    \n",
       "log_description_length   2524.84    1822.66   1.385 0.166294    \n",
       "categoryfinance          2755.03    1394.86   1.975 0.048535 *  \n",
       "---\n",
       "Signif. codes:  0 ‘***’ 0.001 ‘**’ 0.01 ‘*’ 0.05 ‘.’ 0.1 ‘ ’ 1\n",
       "\n",
       "Residual standard error: 20230 on 972 degrees of freedom\n",
       "Multiple R-squared:  0.08048,\tAdjusted R-squared:  0.07197 \n",
       "F-statistic: 9.453 on 9 and 972 DF,  p-value: 6.931e-14\n"
      ]
     },
     "metadata": {},
     "output_type": "display_data"
    },
    {
     "data": {
      "text/plain": [
       "'log Lik.' -11124.68 (df=11)"
      ]
     },
     "metadata": {},
     "output_type": "display_data"
    }
   ],
   "source": [
    "## spec2\n",
    "dat <- all[all$showup==1,]\n",
    "model = lm(Students_Num ~ quality + beauty + smile_proportion +\n",
    "           male + Rating_of_Tch_1 + Courses_of_Tch_1 + \n",
    "           Selling_Price + log_description_length + category, data=dat)\n",
    "summary(model)\n",
    "logLik(model)"
   ]
  },
  {
   "cell_type": "code",
   "execution_count": 15,
   "metadata": {},
   "outputs": [
    {
     "data": {
      "text/plain": [
       "\n",
       "Call:\n",
       "lm(formula = Students_Num ~ quality + beauty + smile_proportion + \n",
       "    I(smile_proportion^2) + male + Rating_of_Tch_1 + Courses_of_Tch_1 + \n",
       "    Selling_Price + log_description_length + category, data = dat)\n",
       "\n",
       "Residuals:\n",
       "   Min     1Q Median     3Q    Max \n",
       "-24243  -8102  -3932   1279 291774 \n",
       "\n",
       "Coefficients:\n",
       "                        Estimate Std. Error t value Pr(>|t|)    \n",
       "(Intercept)            -25533.03   16661.46  -1.532 0.125735    \n",
       "quality                  3302.91    9381.38   0.352 0.724862    \n",
       "beauty                   1753.80    1533.44   1.144 0.253029    \n",
       "smile_proportion        20253.38   10632.86   1.905 0.057102 .  \n",
       "I(smile_proportion^2)  -31579.86   18013.31  -1.753 0.079894 .  \n",
       "male                     5936.67    1614.51   3.677 0.000249 ***\n",
       "Rating_of_Tch_1          2602.51    2910.38   0.894 0.371427    \n",
       "Courses_of_Tch_1          119.28      16.25   7.340 4.52e-13 ***\n",
       "Selling_Price              12.61      33.94   0.371 0.710398    \n",
       "log_description_length   2508.61    1820.74   1.378 0.168585    \n",
       "categoryfinance          2681.86    1394.00   1.924 0.054663 .  \n",
       "---\n",
       "Signif. codes:  0 ‘***’ 0.001 ‘**’ 0.01 ‘*’ 0.05 ‘.’ 0.1 ‘ ’ 1\n",
       "\n",
       "Residual standard error: 20210 on 971 degrees of freedom\n",
       "Multiple R-squared:  0.08338,\tAdjusted R-squared:  0.07394 \n",
       "F-statistic: 8.833 on 10 and 971 DF,  p-value: 5.492e-14\n"
      ]
     },
     "metadata": {},
     "output_type": "display_data"
    },
    {
     "data": {
      "text/plain": [
       "'log Lik.' -11123.13 (df=12)"
      ]
     },
     "metadata": {},
     "output_type": "display_data"
    }
   ],
   "source": [
    "## spec3\n",
    "dat <- all[all$showup==1,]\n",
    "model = lm(Students_Num ~ quality + beauty + smile_proportion + I(smile_proportion^2) +\n",
    "           male + Rating_of_Tch_1 + Courses_of_Tch_1 + \n",
    "           Selling_Price + log_description_length + category, data=dat)\n",
    "summary(model)\n",
    "logLik(model)"
   ]
  },
  {
   "cell_type": "code",
   "execution_count": 16,
   "metadata": {},
   "outputs": [
    {
     "data": {
      "text/plain": [
       "\n",
       "Call:\n",
       "lm(formula = Students_Num ~ quality + beauty + beginning + middle + \n",
       "    end + male + Rating_of_Tch_1 + Courses_of_Tch_1 + Selling_Price + \n",
       "    log_description_length + category, data = dat)\n",
       "\n",
       "Residuals:\n",
       "   Min     1Q Median     3Q    Max \n",
       "-24087  -7890  -4157   1259 291246 \n",
       "\n",
       "Coefficients:\n",
       "                        Estimate Std. Error t value Pr(>|t|)    \n",
       "(Intercept)            -23078.14   16650.84  -1.386 0.166064    \n",
       "quality                  3123.26    9401.92   0.332 0.739815    \n",
       "beauty                   1471.90    1540.71   0.955 0.339646    \n",
       "beginning               -9929.29    6825.60  -1.455 0.146072    \n",
       "middle                   5372.94    8840.52   0.608 0.543487    \n",
       "end                      8222.20    7255.18   1.133 0.257374    \n",
       "male                     5844.98    1615.31   3.618 0.000312 ***\n",
       "Rating_of_Tch_1          2479.63    2909.86   0.852 0.394343    \n",
       "Courses_of_Tch_1          118.53      16.29   7.275 7.14e-13 ***\n",
       "Selling_Price              12.66      33.97   0.373 0.709414    \n",
       "log_description_length   2443.64    1822.62   1.341 0.180322    \n",
       "categoryfinance          2825.99    1395.00   2.026 0.043059 *  \n",
       "---\n",
       "Signif. codes:  0 ‘***’ 0.001 ‘**’ 0.01 ‘*’ 0.05 ‘.’ 0.1 ‘ ’ 1\n",
       "\n",
       "Residual standard error: 20220 on 970 degrees of freedom\n",
       "Multiple R-squared:  0.08321,\tAdjusted R-squared:  0.07281 \n",
       "F-statistic: 8.003 on 11 and 970 DF,  p-value: 1.843e-13\n"
      ]
     },
     "metadata": {},
     "output_type": "display_data"
    },
    {
     "data": {
      "text/plain": [
       "'log Lik.' -11123.23 (df=13)"
      ]
     },
     "metadata": {},
     "output_type": "display_data"
    }
   ],
   "source": [
    "## spec4\n",
    "dat <- all[all$showup==1,]\n",
    "model = lm(Students_Num ~ quality + beauty + beginning + middle + end +\n",
    "           male + Rating_of_Tch_1 + Courses_of_Tch_1 + \n",
    "           Selling_Price + log_description_length + category, data=dat)\n",
    "summary(model)\n",
    "logLik(model)"
   ]
  },
  {
   "cell_type": "code",
   "execution_count": 17,
   "metadata": {},
   "outputs": [
    {
     "data": {
      "text/plain": [
       "\n",
       "Call:\n",
       "lm(formula = Students_Num ~ quality + beauty + Intensity + male + \n",
       "    Rating_of_Tch_1 + Courses_of_Tch_1 + Selling_Price + log_description_length + \n",
       "    category, data = dat)\n",
       "\n",
       "Residuals:\n",
       "   Min     1Q Median     3Q    Max \n",
       "-22972  -7923  -4192   1225 291140 \n",
       "\n",
       "Coefficients:\n",
       "                        Estimate Std. Error t value Pr(>|t|)    \n",
       "(Intercept)            -22815.79   16613.62  -1.373 0.169970    \n",
       "quality                  1835.03    9367.23   0.196 0.844730    \n",
       "beauty                   1566.79    1530.66   1.024 0.306277    \n",
       "Intensity                4567.34    5338.20   0.856 0.392433    \n",
       "male                     5936.96    1623.31   3.657 0.000269 ***\n",
       "Rating_of_Tch_1          2160.20    2905.87   0.743 0.457424    \n",
       "Courses_of_Tch_1          120.76      16.08   7.510 1.34e-13 ***\n",
       "Selling_Price              13.68      33.88   0.404 0.686560    \n",
       "log_description_length   2498.84    1822.52   1.371 0.170662    \n",
       "categoryfinance          2794.47    1396.92   2.000 0.045729 *  \n",
       "---\n",
       "Signif. codes:  0 ‘***’ 0.001 ‘**’ 0.01 ‘*’ 0.05 ‘.’ 0.1 ‘ ’ 1\n",
       "\n",
       "Residual standard error: 20230 on 972 degrees of freedom\n",
       "Multiple R-squared:  0.08065,\tAdjusted R-squared:  0.07214 \n",
       "F-statistic: 9.475 on 9 and 972 DF,  p-value: 6.386e-14\n"
      ]
     },
     "metadata": {},
     "output_type": "display_data"
    },
    {
     "data": {
      "text/plain": [
       "'log Lik.' -11124.59 (df=11)"
      ]
     },
     "metadata": {},
     "output_type": "display_data"
    }
   ],
   "source": [
    "## spec5\n",
    "dat <- all[all$showup==1,]\n",
    "model = lm(Students_Num ~ quality + beauty + Intensity +\n",
    "           male + Rating_of_Tch_1 + Courses_of_Tch_1 + \n",
    "           Selling_Price + log_description_length + category, data=dat)\n",
    "summary(model)\n",
    "logLik(model)"
   ]
  },
  {
   "cell_type": "code",
   "execution_count": 18,
   "metadata": {},
   "outputs": [
    {
     "data": {
      "text/plain": [
       "\n",
       "Call:\n",
       "lm(formula = Students_Num ~ quality + beauty + Intensity + I(Intensity^2) + \n",
       "    male + Rating_of_Tch_1 + Courses_of_Tch_1 + Selling_Price + \n",
       "    log_description_length + category, data = dat)\n",
       "\n",
       "Residuals:\n",
       "   Min     1Q Median     3Q    Max \n",
       "-22837  -7908  -3871   1254 290690 \n",
       "\n",
       "Coefficients:\n",
       "                        Estimate Std. Error t value Pr(>|t|)    \n",
       "(Intercept)            -33293.54   17476.59  -1.905 0.057071 .  \n",
       "quality                  1712.58    9354.76   0.183 0.854781    \n",
       "beauty                   1909.34    1539.10   1.241 0.215071    \n",
       "Intensity               56160.03   27565.11   2.037 0.041885 *  \n",
       "I(Intensity^2)         -58349.63   30586.66  -1.908 0.056727 .  \n",
       "male                     5946.25    1621.12   3.668 0.000258 ***\n",
       "Rating_of_Tch_1          2057.69    2902.43   0.709 0.478522    \n",
       "Courses_of_Tch_1          118.38      16.11   7.350 4.21e-13 ***\n",
       "Selling_Price              12.02      33.85   0.355 0.722498    \n",
       "log_description_length   2341.53    1821.91   1.285 0.199028    \n",
       "categoryfinance          2951.59    1397.46   2.112 0.034932 *  \n",
       "---\n",
       "Signif. codes:  0 ‘***’ 0.001 ‘**’ 0.01 ‘*’ 0.05 ‘.’ 0.1 ‘ ’ 1\n",
       "\n",
       "Residual standard error: 20200 on 971 degrees of freedom\n",
       "Multiple R-squared:  0.08408,\tAdjusted R-squared:  0.07465 \n",
       "F-statistic: 8.914 on 10 and 971 DF,  p-value: 3.916e-14\n"
      ]
     },
     "metadata": {},
     "output_type": "display_data"
    },
    {
     "data": {
      "text/plain": [
       "'log Lik.' -11122.76 (df=12)"
      ]
     },
     "metadata": {},
     "output_type": "display_data"
    }
   ],
   "source": [
    "## spec6\n",
    "dat <- all[all$showup==1,]\n",
    "model = lm(Students_Num ~ quality + beauty + Intensity + I(Intensity^2) +\n",
    "           male + Rating_of_Tch_1 + Courses_of_Tch_1 + \n",
    "           Selling_Price + log_description_length + category, data=dat)\n",
    "summary(model)\n",
    "logLik(model)"
   ]
  },
  {
   "cell_type": "code",
   "execution_count": 19,
   "metadata": {},
   "outputs": [
    {
     "data": {
      "text/plain": [
       "\n",
       "Call:\n",
       "lm(formula = Students_Num ~ quality + beauty + asymmetry + male + \n",
       "    Rating_of_Tch_1 + Courses_of_Tch_1 + Selling_Price + log_description_length + \n",
       "    category, data = dat)\n",
       "\n",
       "Residuals:\n",
       "   Min     1Q Median     3Q    Max \n",
       "-23603  -7928  -4158   1106 289987 \n",
       "\n",
       "Coefficients:\n",
       "                        Estimate Std. Error t value Pr(>|t|)    \n",
       "(Intercept)            -19299.01   16638.03  -1.160 0.246361    \n",
       "quality                  2342.40    9345.70   0.251 0.802146    \n",
       "beauty                   1355.22    1535.12   0.883 0.377556    \n",
       "asymmetry               -2600.63    2797.51  -0.930 0.352797    \n",
       "male                     5856.02    1614.14   3.628 0.000301 ***\n",
       "Rating_of_Tch_1          2170.85    2905.35   0.747 0.455129    \n",
       "Courses_of_Tch_1          119.97      16.06   7.469  1.8e-13 ***\n",
       "Selling_Price              13.97      33.87   0.413 0.680023    \n",
       "log_description_length   2595.22    1824.42   1.422 0.155205    \n",
       "categoryfinance          2741.25    1393.71   1.967 0.049482 *  \n",
       "---\n",
       "Signif. codes:  0 ‘***’ 0.001 ‘**’ 0.01 ‘*’ 0.05 ‘.’ 0.1 ‘ ’ 1\n",
       "\n",
       "Residual standard error: 20220 on 972 degrees of freedom\n",
       "Multiple R-squared:  0.08078,\tAdjusted R-squared:  0.07227 \n",
       "F-statistic:  9.49 on 9 and 972 DF,  p-value: 6.009e-14\n"
      ]
     },
     "metadata": {},
     "output_type": "display_data"
    },
    {
     "data": {
      "text/plain": [
       "'log Lik.' -11124.53 (df=11)"
      ]
     },
     "metadata": {},
     "output_type": "display_data"
    }
   ],
   "source": [
    "## spec7\n",
    "dat <- all[all$showup==1,]\n",
    "model = lm(Students_Num ~ quality + beauty + asymmetry +\n",
    "           male + Rating_of_Tch_1 + Courses_of_Tch_1 + \n",
    "           Selling_Price + log_description_length + category, data=dat)\n",
    "summary(model)\n",
    "logLik(model)"
   ]
  },
  {
   "cell_type": "code",
   "execution_count": 20,
   "metadata": {},
   "outputs": [
    {
     "data": {
      "text/plain": [
       "\n",
       "Call:\n",
       "lm(formula = Students_Num ~ quality + beauty + smile_proportion + \n",
       "    I(smile_proportion^2) + category:smile_proportion + male + \n",
       "    Rating_of_Tch_1 + Courses_of_Tch_1 + Selling_Price + log_description_length + \n",
       "    category, data = dat)\n",
       "\n",
       "Residuals:\n",
       "   Min     1Q Median     3Q    Max \n",
       "-23793  -8182  -3891   1430 291427 \n",
       "\n",
       "Coefficients:\n",
       "                                  Estimate Std. Error t value Pr(>|t|)    \n",
       "(Intercept)                      -25260.78   16671.50  -1.515 0.130046    \n",
       "quality                            3411.22    9385.58   0.363 0.716345    \n",
       "beauty                             1641.30    1543.44   1.063 0.287865    \n",
       "smile_proportion                  22604.15   11222.68   2.014 0.044270 *  \n",
       "I(smile_proportion^2)            -32850.00   18122.19  -1.813 0.070188 .  \n",
       "male                               5933.01    1614.99   3.674 0.000252 ***\n",
       "Rating_of_Tch_1                    2550.95    2912.29   0.876 0.381288    \n",
       "Courses_of_Tch_1                    119.51      16.26   7.350  4.2e-13 ***\n",
       "Selling_Price                        11.22      34.02   0.330 0.741665    \n",
       "log_description_length             2501.78    1821.31   1.374 0.169878    \n",
       "categoryfinance                    3313.41    1694.10   1.956 0.050770 .  \n",
       "smile_proportion:categoryfinance  -5851.30    8913.83  -0.656 0.511704    \n",
       "---\n",
       "Signif. codes:  0 ‘***’ 0.001 ‘**’ 0.01 ‘*’ 0.05 ‘.’ 0.1 ‘ ’ 1\n",
       "\n",
       "Residual standard error: 20210 on 970 degrees of freedom\n",
       "Multiple R-squared:  0.08379,\tAdjusted R-squared:  0.0734 \n",
       "F-statistic: 8.065 on 11 and 970 DF,  p-value: 1.396e-13\n"
      ]
     },
     "metadata": {},
     "output_type": "display_data"
    },
    {
     "data": {
      "text/plain": [
       "'log Lik.' -11122.91 (df=13)"
      ]
     },
     "metadata": {},
     "output_type": "display_data"
    }
   ],
   "source": [
    "## spec8\n",
    "dat <- all[all$showup==1,]\n",
    "model = lm(Students_Num ~ quality + beauty + smile_proportion + I(smile_proportion^2) + category : smile_proportion +\n",
    "           male + Rating_of_Tch_1 + Courses_of_Tch_1 + \n",
    "           Selling_Price + log_description_length + category, data=dat)\n",
    "summary(model)\n",
    "logLik(model)"
   ]
  },
  {
   "cell_type": "code",
   "execution_count": 21,
   "metadata": {},
   "outputs": [
    {
     "data": {
      "text/plain": [
       "\n",
       "Call:\n",
       "lm(formula = Students_Num ~ quality + beauty + smile_proportion + \n",
       "    I(smile_proportion^2) + category:smile_proportion + beginning + \n",
       "    middle + end + Intensity + I(Intensity^2) + asymmetry + male + \n",
       "    Rating_of_Tch_1 + Courses_of_Tch_1 + Selling_Price + log_description_length + \n",
       "    category, data = dat)\n",
       "\n",
       "Residuals:\n",
       "   Min     1Q Median     3Q    Max \n",
       "-24472  -8149  -3957   1619 289786 \n",
       "\n",
       "Coefficients:\n",
       "                                   Estimate Std. Error t value Pr(>|t|)    \n",
       "(Intercept)                      -3.800e+04  1.782e+04  -2.133 0.033211 *  \n",
       "quality                           3.042e+03  9.394e+03   0.324 0.746169    \n",
       "beauty                            1.879e+03  1.567e+03   1.200 0.230564    \n",
       "smile_proportion                 -5.296e+05  1.093e+06  -0.484 0.628260    \n",
       "I(smile_proportion^2)            -4.254e+04  1.905e+04  -2.233 0.025780 *  \n",
       "beginning                         1.748e+05  3.668e+05   0.476 0.633911    \n",
       "middle                            1.920e+05  3.665e+05   0.524 0.600494    \n",
       "end                               1.920e+05  3.626e+05   0.529 0.596633    \n",
       "Intensity                         6.291e+04  2.796e+04   2.250 0.024666 *  \n",
       "I(Intensity^2)                   -6.448e+04  3.110e+04  -2.074 0.038378 *  \n",
       "asymmetry                        -4.603e+03  2.920e+03  -1.577 0.115218    \n",
       "male                              6.358e+03  1.631e+03   3.899 0.000103 ***\n",
       "Rating_of_Tch_1                   2.769e+03  2.918e+03   0.949 0.342879    \n",
       "Courses_of_Tch_1                  1.170e+02  1.632e+01   7.172 1.47e-12 ***\n",
       "Selling_Price                     8.004e+00  3.399e+01   0.236 0.813853    \n",
       "log_description_length            2.339e+03  1.822e+03   1.283 0.199645    \n",
       "categoryfinance                   3.524e+03  1.696e+03   2.078 0.038004 *  \n",
       "smile_proportion:categoryfinance -4.214e+03  8.946e+03  -0.471 0.637734    \n",
       "---\n",
       "Signif. codes:  0 ‘***’ 0.001 ‘**’ 0.01 ‘*’ 0.05 ‘.’ 0.1 ‘ ’ 1\n",
       "\n",
       "Residual standard error: 20160 on 964 degrees of freedom\n",
       "Multiple R-squared:  0.09371,\tAdjusted R-squared:  0.07773 \n",
       "F-statistic: 5.864 on 17 and 964 DF,  p-value: 5.802e-13\n"
      ]
     },
     "metadata": {},
     "output_type": "display_data"
    },
    {
     "data": {
      "text/plain": [
       "'log Lik.' -11117.57 (df=19)"
      ]
     },
     "metadata": {},
     "output_type": "display_data"
    }
   ],
   "source": [
    "## spec9\n",
    "dat <- all[all$showup==1,]\n",
    "model = lm(Students_Num ~ quality + beauty + smile_proportion + I(smile_proportion^2) + category : smile_proportion +\n",
    "           beginning + middle + end + Intensity + I(Intensity^2) + asymmetry +\n",
    "           male + Rating_of_Tch_1 + Courses_of_Tch_1 + \n",
    "           Selling_Price + log_description_length + category, data=dat)\n",
    "summary(model)\n",
    "logLik(model)"
   ]
  },
  {
   "cell_type": "code",
   "execution_count": 47,
   "metadata": {},
   "outputs": [
    {
     "data": {
      "text/plain": [
       "\n",
       "Call:\n",
       "lm(formula = Students_Num ~ quality + showup + beauty + male + \n",
       "    Rating_of_Tch_1 + rest_students + Selling_Price + Courses_of_Tch_1 + \n",
       "    Selling_Price + log_description_length + category, data = dat)\n",
       "\n",
       "Residuals:\n",
       "   Min     1Q Median     3Q    Max \n",
       "-79097  -5623  -3619    662 264762 \n",
       "\n",
       "Coefficients:\n",
       "                               Estimate Std. Error t value Pr(>|t|)    \n",
       "(Intercept)                   4.214e+03  1.099e+04   0.383  0.70153    \n",
       "quality                       2.477e+03  6.810e+03   0.364  0.71607    \n",
       "showup                        1.613e+03  1.216e+03   1.326  0.18496    \n",
       "beauty                        5.828e+02  1.095e+03   0.532  0.59458    \n",
       "male                          1.880e+03  1.222e+03   1.538  0.12423    \n",
       "Rating_of_Tch_1              -1.624e+03  1.979e+03  -0.821  0.41179    \n",
       "rest_students                 3.184e-02  2.246e-03  14.173  < 2e-16 ***\n",
       "Selling_Price                 5.516e+00  2.710e+01   0.204  0.83872    \n",
       "Courses_of_Tch_1             -4.391e+01  1.622e+01  -2.707  0.00688 ** \n",
       "log_description_length        1.297e+03  1.319e+03   0.984  0.32549    \n",
       "categorypersonal development -4.411e+02  1.023e+03  -0.431  0.66635    \n",
       "---\n",
       "Signif. codes:  0 ‘***’ 0.001 ‘**’ 0.01 ‘*’ 0.05 ‘.’ 0.1 ‘ ’ 1\n",
       "\n",
       "Residual standard error: 17380 on 1319 degrees of freedom\n",
       "  (467 observations deleted due to missingness)\n",
       "Multiple R-squared:  0.1888,\tAdjusted R-squared:  0.1826 \n",
       "F-statistic: 30.69 on 10 and 1319 DF,  p-value: < 2.2e-16\n"
      ]
     },
     "metadata": {},
     "output_type": "display_data"
    },
    {
     "data": {
      "text/plain": [
       "'log Lik.' -14866.56 (df=12)"
      ]
     },
     "metadata": {},
     "output_type": "display_data"
    }
   ],
   "source": [
    "## spec1\n",
    "dat <- all[all$preview==1,]\n",
    "model = lm(Students_Num ~ quality + showup + beauty + \n",
    "           male + Rating_of_Tch_1 + rest_students + Selling_Price + Courses_of_Tch_1 + \n",
    "           Selling_Price + log_description_length + category, data=dat)\n",
    "summary(model)\n",
    "logLik(model)"
   ]
  },
  {
   "cell_type": "code",
   "execution_count": 53,
   "metadata": {},
   "outputs": [
    {
     "data": {
      "text/plain": [
       "\n",
       "Call:\n",
       "lm(formula = Students_Num ~ quality + beauty + smile_proportion + \n",
       "    male + Rating_of_Tch_1 + rest_students + Selling_Price + \n",
       "    Courses_of_Tch_1 + Selling_Price + log_description_length + \n",
       "    category, data = dat)\n",
       "\n",
       "Residuals:\n",
       "   Min     1Q Median     3Q    Max \n",
       "-66318  -5650  -3258   1502 253332 \n",
       "\n",
       "Coefficients:\n",
       "                               Estimate Std. Error t value Pr(>|t|)    \n",
       "(Intercept)                   9.789e+02  1.509e+04   0.065    0.948    \n",
       "quality                       8.146e+03  8.545e+03   0.953    0.341    \n",
       "beauty                        5.224e+01  1.396e+03   0.037    0.970    \n",
       "smile_proportion             -5.227e+03  3.738e+03  -1.398    0.162    \n",
       "male                          1.781e+03  1.496e+03   1.190    0.234    \n",
       "Rating_of_Tch_1              -1.255e+03  2.653e+03  -0.473    0.636    \n",
       "rest_students                 4.261e-02  2.977e-03  14.315  < 2e-16 ***\n",
       "Selling_Price                 1.631e+01  3.089e+01   0.528    0.598    \n",
       "Courses_of_Tch_1             -8.858e+01  2.067e+01  -4.285 2.01e-05 ***\n",
       "log_description_length        1.787e+03  1.658e+03   1.078    0.281    \n",
       "categorypersonal development -1.483e+03  1.271e+03  -1.166    0.244    \n",
       "---\n",
       "Signif. codes:  0 ‘***’ 0.001 ‘**’ 0.01 ‘*’ 0.05 ‘.’ 0.1 ‘ ’ 1\n",
       "\n",
       "Residual standard error: 18390 on 971 degrees of freedom\n",
       "Multiple R-squared:  0.2407,\tAdjusted R-squared:  0.2329 \n",
       "F-statistic: 30.78 on 10 and 971 DF,  p-value: < 2.2e-16\n"
      ]
     },
     "metadata": {},
     "output_type": "display_data"
    },
    {
     "data": {
      "text/plain": [
       "'log Lik.' -11030.67 (df=12)"
      ]
     },
     "metadata": {},
     "output_type": "display_data"
    }
   ],
   "source": [
    "## spec2\n",
    "dat <- all[all$showup==1,]\n",
    "model = lm(Students_Num ~ quality + beauty + smile_proportion +\n",
    "           male + Rating_of_Tch_1 + rest_students + Selling_Price + Courses_of_Tch_1 + \n",
    "           Selling_Price + log_description_length + category, data=dat)\n",
    "summary(model)\n",
    "logLik(model)"
   ]
  },
  {
   "cell_type": "code",
   "execution_count": 50,
   "metadata": {},
   "outputs": [
    {
     "data": {
      "text/plain": [
       "\n",
       "Call:\n",
       "lm(formula = Students_Num ~ quality + beauty + smile_proportion + \n",
       "    I(smile_proportion^2) + male + Rating_of_Tch_1 + rest_students + \n",
       "    Selling_Price + Courses_of_Tch_1 + Selling_Price + log_description_length + \n",
       "    category, data = dat)\n",
       "\n",
       "Residuals:\n",
       "   Min     1Q Median     3Q    Max \n",
       "-67669  -5687  -3238   1191 253813 \n",
       "\n",
       "Coefficients:\n",
       "                               Estimate Std. Error t value Pr(>|t|)    \n",
       "(Intercept)                  -2.104e+03  1.517e+04  -0.139    0.890    \n",
       "quality                       8.389e+03  8.536e+03   0.983    0.326    \n",
       "beauty                        2.349e+02  1.398e+03   0.168    0.867    \n",
       "smile_proportion              1.099e+04  9.688e+03   1.134    0.257    \n",
       "I(smile_proportion^2)        -2.971e+04  1.638e+04  -1.814    0.070 .  \n",
       "male                          1.864e+03  1.495e+03   1.247    0.213    \n",
       "Rating_of_Tch_1              -8.954e+02  2.657e+03  -0.337    0.736    \n",
       "rest_students                 4.256e-02  2.973e-03  14.316  < 2e-16 ***\n",
       "Selling_Price                 1.648e+01  3.086e+01   0.534    0.593    \n",
       "Courses_of_Tch_1             -8.743e+01  2.066e+01  -4.232 2.53e-05 ***\n",
       "log_description_length        1.773e+03  1.656e+03   1.071    0.285    \n",
       "categorypersonal development -1.415e+03  1.270e+03  -1.114    0.266    \n",
       "---\n",
       "Signif. codes:  0 ‘***’ 0.001 ‘**’ 0.01 ‘*’ 0.05 ‘.’ 0.1 ‘ ’ 1\n",
       "\n",
       "Residual standard error: 18370 on 970 degrees of freedom\n",
       "Multiple R-squared:  0.2433,\tAdjusted R-squared:  0.2347 \n",
       "F-statistic: 28.35 on 11 and 970 DF,  p-value: < 2.2e-16\n"
      ]
     },
     "metadata": {},
     "output_type": "display_data"
    },
    {
     "data": {
      "text/plain": [
       "'log Lik.' -11029.01 (df=13)"
      ]
     },
     "metadata": {},
     "output_type": "display_data"
    }
   ],
   "source": [
    "## spec3\n",
    "dat <- all[all$showup==1,]\n",
    "model = lm(Students_Num ~ quality + beauty + smile_proportion + I(smile_proportion^2) +\n",
    "           male + Rating_of_Tch_1 + rest_students + Selling_Price + Courses_of_Tch_1 + \n",
    "           Selling_Price + log_description_length + category, data=dat)\n",
    "summary(model)\n",
    "logLik(model)"
   ]
  },
  {
   "cell_type": "code",
   "execution_count": 56,
   "metadata": {},
   "outputs": [
    {
     "data": {
      "text/plain": [
       "\n",
       "Call:\n",
       "lm(formula = Students_Num ~ quality + beauty + beginning + middle + \n",
       "    end + male + Rating_of_Tch_1 + rest_students + Selling_Price + \n",
       "    Courses_of_Tch_1 + Selling_Price + log_description_length + \n",
       "    category, data = dat)\n",
       "\n",
       "Residuals:\n",
       "   Min     1Q Median     3Q    Max \n",
       "-67284  -5724  -3176   1610 253372 \n",
       "\n",
       "Coefficients:\n",
       "                               Estimate Std. Error t value Pr(>|t|)    \n",
       "(Intercept)                   7.790e+02  1.516e+04   0.051   0.9590    \n",
       "quality                       8.073e+03  8.556e+03   0.944   0.3456    \n",
       "beauty                       -6.722e+01  1.405e+03  -0.048   0.9619    \n",
       "beginning                    -1.181e+04  6.207e+03  -1.902   0.0575 .  \n",
       "middle                        4.230e+03  8.038e+03   0.526   0.5989    \n",
       "end                           3.148e+03  6.606e+03   0.477   0.6338    \n",
       "male                          1.770e+03  1.496e+03   1.183   0.2371    \n",
       "Rating_of_Tch_1              -1.053e+03  2.657e+03  -0.396   0.6919    \n",
       "rest_students                 4.255e-02  2.976e-03  14.295  < 2e-16 ***\n",
       "Selling_Price                 1.637e+01  3.089e+01   0.530   0.5961    \n",
       "Courses_of_Tch_1             -8.835e+01  2.071e+01  -4.266 2.18e-05 ***\n",
       "log_description_length        1.711e+03  1.658e+03   1.032   0.3022    \n",
       "categorypersonal development -1.553e+03  1.271e+03  -1.221   0.2223    \n",
       "---\n",
       "Signif. codes:  0 ‘***’ 0.001 ‘**’ 0.01 ‘*’ 0.05 ‘.’ 0.1 ‘ ’ 1\n",
       "\n",
       "Residual standard error: 18380 on 969 degrees of freedom\n",
       "Multiple R-squared:  0.2429,\tAdjusted R-squared:  0.2335 \n",
       "F-statistic:  25.9 on 12 and 969 DF,  p-value: < 2.2e-16\n"
      ]
     },
     "metadata": {},
     "output_type": "display_data"
    },
    {
     "data": {
      "text/plain": [
       "'log Lik.' -11029.28 (df=14)"
      ]
     },
     "metadata": {},
     "output_type": "display_data"
    }
   ],
   "source": [
    "## spec4\n",
    "dat <- all[all$showup==1,]\n",
    "model = lm(Students_Num ~ quality + beauty + beginning + middle + end +\n",
    "           male + Rating_of_Tch_1 + rest_students + Selling_Price + Courses_of_Tch_1 + \n",
    "           Selling_Price + log_description_length + category, data=dat)\n",
    "summary(model)\n",
    "logLik(model)"
   ]
  },
  {
   "cell_type": "code",
   "execution_count": 57,
   "metadata": {},
   "outputs": [
    {
     "data": {
      "text/plain": [
       "\n",
       "Call:\n",
       "lm(formula = Students_Num ~ quality + beauty + Intensity + male + \n",
       "    Rating_of_Tch_1 + rest_students + Selling_Price + Courses_of_Tch_1 + \n",
       "    Selling_Price + log_description_length + category, data = dat)\n",
       "\n",
       "Residuals:\n",
       "   Min     1Q Median     3Q    Max \n",
       "-66908  -5633  -3130   1305 254627 \n",
       "\n",
       "Coefficients:\n",
       "                               Estimate Std. Error t value Pr(>|t|)    \n",
       "(Intercept)                  -1.910e+03  1.512e+04  -0.126    0.900    \n",
       "quality                       8.927e+03  8.539e+03   1.045    0.296    \n",
       "beauty                        2.301e+02  1.396e+03   0.165    0.869    \n",
       "Intensity                     2.243e+03  4.861e+03   0.461    0.645    \n",
       "male                          2.066e+03  1.502e+03   1.375    0.169    \n",
       "Rating_of_Tch_1              -1.213e+03  2.655e+03  -0.457    0.648    \n",
       "rest_students                 4.192e-02  2.945e-03  14.233  < 2e-16 ***\n",
       "Selling_Price                 1.254e+01  3.083e+01   0.407    0.684    \n",
       "Courses_of_Tch_1             -8.807e+01  2.072e+01  -4.250 2.35e-05 ***\n",
       "log_description_length        1.811e+03  1.659e+03   1.091    0.275    \n",
       "categorypersonal development -1.622e+03  1.274e+03  -1.273    0.203    \n",
       "---\n",
       "Signif. codes:  0 ‘***’ 0.001 ‘**’ 0.01 ‘*’ 0.05 ‘.’ 0.1 ‘ ’ 1\n",
       "\n",
       "Residual standard error: 18410 on 971 degrees of freedom\n",
       "Multiple R-squared:  0.2394,\tAdjusted R-squared:  0.2315 \n",
       "F-statistic: 30.55 on 10 and 971 DF,  p-value: < 2.2e-16\n"
      ]
     },
     "metadata": {},
     "output_type": "display_data"
    },
    {
     "data": {
      "text/plain": [
       "'log Lik.' -11031.55 (df=12)"
      ]
     },
     "metadata": {},
     "output_type": "display_data"
    }
   ],
   "source": [
    "## spec5\n",
    "dat <- all[all$showup==1,]\n",
    "model = lm(Students_Num ~ quality + beauty + Intensity +\n",
    "           male + Rating_of_Tch_1 + rest_students + Selling_Price + Courses_of_Tch_1 + \n",
    "           Selling_Price + log_description_length + category, data=dat)\n",
    "summary(model)\n",
    "logLik(model)"
   ]
  },
  {
   "cell_type": "code",
   "execution_count": 58,
   "metadata": {},
   "outputs": [
    {
     "data": {
      "text/plain": [
       "\n",
       "Call:\n",
       "lm(formula = Students_Num ~ quality + beauty + Intensity + I(Intensity^2) + \n",
       "    male + Rating_of_Tch_1 + rest_students + Selling_Price + \n",
       "    Courses_of_Tch_1 + Selling_Price + log_description_length + \n",
       "    category, data = dat)\n",
       "\n",
       "Residuals:\n",
       "   Min     1Q Median     3Q    Max \n",
       "-67071  -5606  -3179   1321 254518 \n",
       "\n",
       "Coefficients:\n",
       "                               Estimate Std. Error t value Pr(>|t|)    \n",
       "(Intercept)                  -8.673e+03  1.592e+04  -0.545    0.586    \n",
       "quality                       8.812e+03  8.536e+03   1.032    0.302    \n",
       "beauty                        4.582e+02  1.406e+03   0.326    0.745    \n",
       "Intensity                     3.561e+04  2.515e+04   1.416    0.157    \n",
       "I(Intensity^2)               -3.773e+04  2.790e+04  -1.352    0.177    \n",
       "male                          2.091e+03  1.502e+03   1.392    0.164    \n",
       "Rating_of_Tch_1              -1.263e+03  2.654e+03  -0.476    0.634    \n",
       "rest_students                 4.171e-02  2.948e-03  14.149  < 2e-16 ***\n",
       "Selling_Price                 1.148e+01  3.083e+01   0.372    0.710    \n",
       "Courses_of_Tch_1             -8.857e+01  2.072e+01  -4.275  2.1e-05 ***\n",
       "log_description_length        1.713e+03  1.660e+03   1.032    0.303    \n",
       "categorypersonal development -1.729e+03  1.276e+03  -1.355    0.176    \n",
       "---\n",
       "Signif. codes:  0 ‘***’ 0.001 ‘**’ 0.01 ‘*’ 0.05 ‘.’ 0.1 ‘ ’ 1\n",
       "\n",
       "Residual standard error: 18400 on 970 degrees of freedom\n",
       "Multiple R-squared:  0.2408,\tAdjusted R-squared:  0.2322 \n",
       "F-statistic: 27.97 on 11 and 970 DF,  p-value: < 2.2e-16\n"
      ]
     },
     "metadata": {},
     "output_type": "display_data"
    },
    {
     "data": {
      "text/plain": [
       "'log Lik.' -11030.63 (df=13)"
      ]
     },
     "metadata": {},
     "output_type": "display_data"
    }
   ],
   "source": [
    "## spec6\n",
    "dat <- all[all$showup==1,]\n",
    "model = lm(Students_Num ~ quality + beauty + Intensity + I(Intensity^2) +\n",
    "           male + Rating_of_Tch_1 + rest_students + Selling_Price + Courses_of_Tch_1 + \n",
    "           Selling_Price + log_description_length + category, data=dat)\n",
    "summary(model)\n",
    "logLik(model)"
   ]
  },
  {
   "cell_type": "code",
   "execution_count": 60,
   "metadata": {},
   "outputs": [
    {
     "data": {
      "text/plain": [
       "\n",
       "Call:\n",
       "lm(formula = Students_Num ~ quality + beauty + asymmetry + male + \n",
       "    Rating_of_Tch_1 + rest_students + Selling_Price + Courses_of_Tch_1 + \n",
       "    Selling_Price + log_description_length + category, data = dat)\n",
       "\n",
       "Residuals:\n",
       "   Min     1Q Median     3Q    Max \n",
       "-67403  -5629  -3229   1336 253667 \n",
       "\n",
       "Coefficients:\n",
       "                               Estimate Std. Error t value Pr(>|t|)    \n",
       "(Intercept)                   5.594e+02  1.515e+04   0.037    0.971    \n",
       "quality                       9.169e+03  8.517e+03   1.077    0.282    \n",
       "beauty                        7.258e+01  1.400e+03   0.052    0.959    \n",
       "asymmetry                    -2.284e+03  2.545e+03  -0.897    0.370    \n",
       "male                          2.057e+03  1.493e+03   1.378    0.169    \n",
       "Rating_of_Tch_1              -1.227e+03  2.654e+03  -0.462    0.644    \n",
       "rest_students                 4.194e-02  2.943e-03  14.253  < 2e-16 ***\n",
       "Selling_Price                 1.252e+01  3.082e+01   0.406    0.685    \n",
       "Courses_of_Tch_1             -8.863e+01  2.068e+01  -4.285 2.01e-05 ***\n",
       "log_description_length        1.889e+03  1.661e+03   1.138    0.256    \n",
       "categorypersonal development -1.607e+03  1.271e+03  -1.265    0.206    \n",
       "---\n",
       "Signif. codes:  0 ‘***’ 0.001 ‘**’ 0.01 ‘*’ 0.05 ‘.’ 0.1 ‘ ’ 1\n",
       "\n",
       "Residual standard error: 18400 on 971 degrees of freedom\n",
       "Multiple R-squared:  0.2398,\tAdjusted R-squared:  0.232 \n",
       "F-statistic: 30.63 on 10 and 971 DF,  p-value: < 2.2e-16\n"
      ]
     },
     "metadata": {},
     "output_type": "display_data"
    },
    {
     "data": {
      "text/plain": [
       "'log Lik.' -11031.25 (df=12)"
      ]
     },
     "metadata": {},
     "output_type": "display_data"
    }
   ],
   "source": [
    "## spec7\n",
    "dat <- all[all$showup==1,]\n",
    "model = lm(Students_Num ~ quality + beauty + asymmetry +\n",
    "           male + Rating_of_Tch_1 + rest_students + Selling_Price + Courses_of_Tch_1 + \n",
    "           Selling_Price + log_description_length + category, data=dat)\n",
    "summary(model)\n",
    "logLik(model)"
   ]
  },
  {
   "cell_type": "code",
   "execution_count": 59,
   "metadata": {},
   "outputs": [
    {
     "data": {
      "text/plain": [
       "\n",
       "Call:\n",
       "lm(formula = Students_Num ~ quality + beauty + smile_proportion + \n",
       "    category:smile_proportion + male + Rating_of_Tch_1 + rest_students + \n",
       "    Selling_Price + Courses_of_Tch_1 + Selling_Price + log_description_length + \n",
       "    category, data = dat)\n",
       "\n",
       "Residuals:\n",
       "   Min     1Q Median     3Q    Max \n",
       "-66045  -5557  -3263   1479 253064 \n",
       "\n",
       "Coefficients:\n",
       "                                                Estimate Std. Error t value\n",
       "(Intercept)                                    1.733e+03  1.517e+04   0.114\n",
       "quality                                        8.217e+03  8.549e+03   0.961\n",
       "beauty                                        -3.531e+01  1.406e+03  -0.025\n",
       "smile_proportion                              -8.278e+03  6.886e+03  -1.202\n",
       "male                                           1.776e+03  1.497e+03   1.186\n",
       "Rating_of_Tch_1                               -1.304e+03  2.655e+03  -0.491\n",
       "rest_students                                  4.261e-02  2.978e-03  14.310\n",
       "Selling_Price                                  1.529e+01  3.097e+01   0.494\n",
       "Courses_of_Tch_1                              -8.844e+01  2.068e+01  -4.277\n",
       "log_description_length                         1.783e+03  1.659e+03   1.075\n",
       "categorypersonal development                  -1.944e+03  1.543e+03  -1.260\n",
       "smile_proportion:categorypersonal development  4.257e+03  8.067e+03   0.528\n",
       "                                              Pr(>|t|)    \n",
       "(Intercept)                                      0.909    \n",
       "quality                                          0.337    \n",
       "beauty                                           0.980    \n",
       "smile_proportion                                 0.230    \n",
       "male                                             0.236    \n",
       "Rating_of_Tch_1                                  0.623    \n",
       "rest_students                                  < 2e-16 ***\n",
       "Selling_Price                                    0.622    \n",
       "Courses_of_Tch_1                              2.09e-05 ***\n",
       "log_description_length                           0.283    \n",
       "categorypersonal development                     0.208    \n",
       "smile_proportion:categorypersonal development    0.598    \n",
       "---\n",
       "Signif. codes:  0 ‘***’ 0.001 ‘**’ 0.01 ‘*’ 0.05 ‘.’ 0.1 ‘ ’ 1\n",
       "\n",
       "Residual standard error: 18400 on 970 degrees of freedom\n",
       "Multiple R-squared:  0.2409,\tAdjusted R-squared:  0.2323 \n",
       "F-statistic: 27.99 on 11 and 970 DF,  p-value: < 2.2e-16\n"
      ]
     },
     "metadata": {},
     "output_type": "display_data"
    },
    {
     "data": {
      "text/plain": [
       "'log Lik.' -11030.53 (df=13)"
      ]
     },
     "metadata": {},
     "output_type": "display_data"
    }
   ],
   "source": [
    "## spec8\n",
    "dat <- all[all$showup==1,]\n",
    "model = lm(Students_Num ~ quality + beauty + smile_proportion + category : smile_proportion +\n",
    "           male + Rating_of_Tch_1 + rest_students + Selling_Price + Courses_of_Tch_1 + \n",
    "           Selling_Price + log_description_length + category, data=dat)\n",
    "summary(model)\n",
    "logLik(model)"
   ]
  },
  {
   "cell_type": "code",
   "execution_count": 61,
   "metadata": {},
   "outputs": [
    {
     "data": {
      "text/plain": [
       "\n",
       "Call:\n",
       "lm(formula = Students_Num ~ quality + beauty + smile_proportion + \n",
       "    category:smile_proportion + beginning + middle + end + Intensity + \n",
       "    I(Intensity^2) + asymmetry + male + Rating_of_Tch_1 + rest_students + \n",
       "    Selling_Price + Courses_of_Tch_1 + Selling_Price + log_description_length + \n",
       "    category, data = dat)\n",
       "\n",
       "Residuals:\n",
       "   Min     1Q Median     3Q    Max \n",
       "-66026  -5920  -3044   1662 252175 \n",
       "\n",
       "Coefficients:\n",
       "                                                Estimate Std. Error t value\n",
       "(Intercept)                                   -5.428e+03  1.623e+04  -0.334\n",
       "quality                                        8.081e+03  8.579e+03   0.942\n",
       "beauty                                         2.711e+01  1.433e+03   0.019\n",
       "smile_proportion                              -4.427e+05  9.695e+05  -0.457\n",
       "beginning                                      1.357e+05  3.245e+05   0.418\n",
       "middle                                         1.514e+05  3.239e+05   0.467\n",
       "end                                            1.491e+05  3.207e+05   0.465\n",
       "Intensity                                      4.010e+04  2.553e+04   1.571\n",
       "I(Intensity^2)                                -4.476e+04  2.839e+04  -1.576\n",
       "asymmetry                                     -2.509e+03  2.621e+03  -0.957\n",
       "male                                           1.906e+03  1.516e+03   1.257\n",
       "Rating_of_Tch_1                               -1.131e+03  2.664e+03  -0.424\n",
       "rest_students                                  4.229e-02  2.992e-03  14.137\n",
       "Selling_Price                                  1.411e+01  3.101e+01   0.455\n",
       "Courses_of_Tch_1                              -8.908e+01  2.079e+01  -4.285\n",
       "log_description_length                         1.650e+03  1.663e+03   0.992\n",
       "categorypersonal development                  -2.016e+03  1.550e+03  -1.301\n",
       "smile_proportion:categorypersonal development  2.880e+03  8.124e+03   0.354\n",
       "                                              Pr(>|t|)    \n",
       "(Intercept)                                      0.738    \n",
       "quality                                          0.346    \n",
       "beauty                                           0.985    \n",
       "smile_proportion                                 0.648    \n",
       "beginning                                        0.676    \n",
       "middle                                           0.640    \n",
       "end                                              0.642    \n",
       "Intensity                                        0.117    \n",
       "I(Intensity^2)                                   0.115    \n",
       "asymmetry                                        0.339    \n",
       "male                                             0.209    \n",
       "Rating_of_Tch_1                                  0.671    \n",
       "rest_students                                  < 2e-16 ***\n",
       "Selling_Price                                    0.649    \n",
       "Courses_of_Tch_1                              2.01e-05 ***\n",
       "log_description_length                           0.322    \n",
       "categorypersonal development                     0.194    \n",
       "smile_proportion:categorypersonal development    0.723    \n",
       "---\n",
       "Signif. codes:  0 ‘***’ 0.001 ‘**’ 0.01 ‘*’ 0.05 ‘.’ 0.1 ‘ ’ 1\n",
       "\n",
       "Residual standard error: 18400 on 964 degrees of freedom\n",
       "Multiple R-squared:  0.2455,\tAdjusted R-squared:  0.2322 \n",
       "F-statistic: 18.45 on 17 and 964 DF,  p-value: < 2.2e-16\n"
      ]
     },
     "metadata": {},
     "output_type": "display_data"
    },
    {
     "data": {
      "text/plain": [
       "'log Lik.' -11027.59 (df=19)"
      ]
     },
     "metadata": {},
     "output_type": "display_data"
    }
   ],
   "source": [
    "## spec9\n",
    "dat <- all[all$showup==1,]\n",
    "model = lm(Students_Num ~ quality + beauty + smile_proportion + category : smile_proportion +\n",
    "           beginning + middle + end + Intensity + I(Intensity^2) + asymmetry +\n",
    "           male + Rating_of_Tch_1 + rest_students + Selling_Price + Courses_of_Tch_1 + \n",
    "           Selling_Price + log_description_length + category, data=dat)\n",
    "summary(model)\n",
    "logLik(model)"
   ]
  },
  {
   "cell_type": "code",
   "execution_count": null,
   "metadata": {},
   "outputs": [],
   "source": []
  }
 ],
 "metadata": {
  "kernelspec": {
   "display_name": "R",
   "language": "R",
   "name": "ir"
  },
  "language_info": {
   "codemirror_mode": "r",
   "file_extension": ".r",
   "mimetype": "text/x-r-source",
   "name": "R",
   "pygments_lexer": "r",
   "version": "3.6.3"
  }
 },
 "nbformat": 4,
 "nbformat_minor": 4
}
